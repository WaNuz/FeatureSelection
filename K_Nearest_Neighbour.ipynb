{
  "nbformat": 4,
  "nbformat_minor": 0,
  "metadata": {
    "colab": {
      "name": "K-Nearest-Neighbour.ipynb",
      "provenance": [],
      "collapsed_sections": []
    },
    "kernelspec": {
      "name": "python3",
      "display_name": "Python 3"
    },
    "language_info": {
      "name": "python"
    }
  },
  "cells": [
    {
      "cell_type": "code",
      "metadata": {
        "id": "VLar6xb0QmMB"
      },
      "source": [
        "import numpy as np\n",
        "import matplotlib.pyplot as plt\n",
        "import pandas as pd"
      ],
      "execution_count": 86,
      "outputs": []
    },
    {
      "cell_type": "code",
      "metadata": {
        "id": "FOq1t79KQzTT"
      },
      "source": [
        "dataset = pd.read_csv('Data.csv')"
      ],
      "execution_count": 87,
      "outputs": []
    },
    {
      "cell_type": "code",
      "metadata": {
        "colab": {
          "base_uri": "https://localhost:8080/",
          "height": 253
        },
        "id": "NhLuaBFQRftE",
        "outputId": "49600645-4707-44a7-9cf5-7a13c8872aba"
      },
      "source": [
        "dataset.head()"
      ],
      "execution_count": 88,
      "outputs": [
        {
          "output_type": "execute_result",
          "data": {
            "text/html": [
              "<div>\n",
              "<style scoped>\n",
              "    .dataframe tbody tr th:only-of-type {\n",
              "        vertical-align: middle;\n",
              "    }\n",
              "\n",
              "    .dataframe tbody tr th {\n",
              "        vertical-align: top;\n",
              "    }\n",
              "\n",
              "    .dataframe thead th {\n",
              "        text-align: right;\n",
              "    }\n",
              "</style>\n",
              "<table border=\"1\" class=\"dataframe\">\n",
              "  <thead>\n",
              "    <tr style=\"text-align: right;\">\n",
              "      <th></th>\n",
              "      <th>ack</th>\n",
              "      <th>ack_A</th>\n",
              "      <th>ack_B</th>\n",
              "      <th>bytes</th>\n",
              "      <th>bytes_A</th>\n",
              "      <th>bytes_A_B_ratio</th>\n",
              "      <th>bytes_B</th>\n",
              "      <th>ds_field_B</th>\n",
              "      <th>duration</th>\n",
              "      <th>http_dom_host_alexaRank</th>\n",
              "      <th>http_inter_arrivel_avg</th>\n",
              "      <th>http_inter_arrivel_entropy</th>\n",
              "      <th>http_inter_arrivel_firstQ</th>\n",
              "      <th>http_inter_arrivel_max</th>\n",
              "      <th>http_inter_arrivel_median</th>\n",
              "      <th>http_inter_arrivel_min</th>\n",
              "      <th>http_inter_arrivel_stdev</th>\n",
              "      <th>http_inter_arrivel_sum</th>\n",
              "      <th>http_inter_arrivel_thirdQ</th>\n",
              "      <th>packet_inter_arrivel_A_avg</th>\n",
              "      <th>packet_inter_arrivel_A_entropy</th>\n",
              "      <th>packet_inter_arrivel_A_firstQ</th>\n",
              "      <th>packet_inter_arrivel_A_max</th>\n",
              "      <th>packet_inter_arrivel_A_median</th>\n",
              "      <th>packet_inter_arrivel_A_min</th>\n",
              "      <th>packet_inter_arrivel_A_stdev</th>\n",
              "      <th>packet_inter_arrivel_A_sum</th>\n",
              "      <th>packet_inter_arrivel_A_thirdQ</th>\n",
              "      <th>packet_inter_arrivel_A_var</th>\n",
              "      <th>packet_inter_arrivel_B_avg</th>\n",
              "      <th>packet_inter_arrivel_B_entropy</th>\n",
              "      <th>packet_inter_arrivel_B_firstQ</th>\n",
              "      <th>packet_inter_arrivel_B_max</th>\n",
              "      <th>packet_inter_arrivel_B_median</th>\n",
              "      <th>packet_inter_arrivel_B_min</th>\n",
              "      <th>packet_inter_arrivel_B_stdev</th>\n",
              "      <th>packet_inter_arrivel_B_sum</th>\n",
              "      <th>packet_inter_arrivel_B_thirdQ</th>\n",
              "      <th>packet_inter_arrivel_B_var</th>\n",
              "      <th>packet_inter_arrivel_avg</th>\n",
              "      <th>...</th>\n",
              "      <th>packet_size_stdev</th>\n",
              "      <th>packet_size_sum</th>\n",
              "      <th>packet_size_thirdQ</th>\n",
              "      <th>packet_size_var</th>\n",
              "      <th>packets</th>\n",
              "      <th>packets_A</th>\n",
              "      <th>packets_A_B_ratio</th>\n",
              "      <th>packets_B</th>\n",
              "      <th>ssl_dom_server_name_alexaRank</th>\n",
              "      <th>ttl_A_avg</th>\n",
              "      <th>ttl_A_entropy</th>\n",
              "      <th>ttl_A_firstQ</th>\n",
              "      <th>ttl_A_max</th>\n",
              "      <th>ttl_A_median</th>\n",
              "      <th>ttl_A_min</th>\n",
              "      <th>ttl_A_stdev</th>\n",
              "      <th>ttl_A_sum</th>\n",
              "      <th>ttl_A_thirdQ</th>\n",
              "      <th>ttl_A_var</th>\n",
              "      <th>ttl_B_avg</th>\n",
              "      <th>ttl_B_entropy</th>\n",
              "      <th>ttl_B_firstQ</th>\n",
              "      <th>ttl_B_max</th>\n",
              "      <th>ttl_B_median</th>\n",
              "      <th>ttl_B_min</th>\n",
              "      <th>ttl_B_stdev</th>\n",
              "      <th>ttl_B_sum</th>\n",
              "      <th>ttl_B_thirdQ</th>\n",
              "      <th>ttl_B_var</th>\n",
              "      <th>ttl_avg</th>\n",
              "      <th>ttl_entropy</th>\n",
              "      <th>ttl_firstQ</th>\n",
              "      <th>ttl_max</th>\n",
              "      <th>ttl_median</th>\n",
              "      <th>ttl_min</th>\n",
              "      <th>ttl_stdev</th>\n",
              "      <th>ttl_sum</th>\n",
              "      <th>ttl_thirdQ</th>\n",
              "      <th>ttl_var</th>\n",
              "      <th>device_category</th>\n",
              "    </tr>\n",
              "  </thead>\n",
              "  <tbody>\n",
              "    <tr>\n",
              "      <th>0</th>\n",
              "      <td>9</td>\n",
              "      <td>5</td>\n",
              "      <td>5</td>\n",
              "      <td>1213</td>\n",
              "      <td>743</td>\n",
              "      <td>0.713924</td>\n",
              "      <td>668</td>\n",
              "      <td>0</td>\n",
              "      <td>1.5756</td>\n",
              "      <td>2147483647</td>\n",
              "      <td>648.797378</td>\n",
              "      <td>0.0</td>\n",
              "      <td>366.095591</td>\n",
              "      <td>1547.304718</td>\n",
              "      <td>490.697626</td>\n",
              "      <td>218.634327</td>\n",
              "      <td>0.0</td>\n",
              "      <td>2840.981562</td>\n",
              "      <td>694.86998</td>\n",
              "      <td>4.817936</td>\n",
              "      <td>4.754888</td>\n",
              "      <td>3.562982e-01</td>\n",
              "      <td>10.584173</td>\n",
              "      <td>0.501178</td>\n",
              "      <td>0.000000e+00</td>\n",
              "      <td>4.625940</td>\n",
              "      <td>7063.094895</td>\n",
              "      <td>0.538112</td>\n",
              "      <td>21.399323</td>\n",
              "      <td>0.223995</td>\n",
              "      <td>2.0</td>\n",
              "      <td>0.067095</td>\n",
              "      <td>0.342990</td>\n",
              "      <td>1.660266e-01</td>\n",
              "      <td>0.000000e+00</td>\n",
              "      <td>0.115842</td>\n",
              "      <td>0.551958</td>\n",
              "      <td>0.244938</td>\n",
              "      <td>0.013419</td>\n",
              "      <td>3.122500</td>\n",
              "      <td>...</td>\n",
              "      <td>103.577739</td>\n",
              "      <td>679</td>\n",
              "      <td>60.5</td>\n",
              "      <td>10728.348010</td>\n",
              "      <td>10</td>\n",
              "      <td>5</td>\n",
              "      <td>0.542604</td>\n",
              "      <td>5</td>\n",
              "      <td>2147483647</td>\n",
              "      <td>64</td>\n",
              "      <td>0</td>\n",
              "      <td>64</td>\n",
              "      <td>64</td>\n",
              "      <td>64</td>\n",
              "      <td>64</td>\n",
              "      <td>0</td>\n",
              "      <td>7140</td>\n",
              "      <td>64</td>\n",
              "      <td>0</td>\n",
              "      <td>44.0</td>\n",
              "      <td>0.000000</td>\n",
              "      <td>44.0</td>\n",
              "      <td>44</td>\n",
              "      <td>44.0</td>\n",
              "      <td>44</td>\n",
              "      <td>0.000000</td>\n",
              "      <td>512</td>\n",
              "      <td>44.0</td>\n",
              "      <td>0.000000</td>\n",
              "      <td>56.965091</td>\n",
              "      <td>0.935617</td>\n",
              "      <td>44.0</td>\n",
              "      <td>64</td>\n",
              "      <td>64.0</td>\n",
              "      <td>44</td>\n",
              "      <td>9.552411</td>\n",
              "      <td>7140</td>\n",
              "      <td>64.0</td>\n",
              "      <td>91.248560</td>\n",
              "      <td>security_camera</td>\n",
              "    </tr>\n",
              "    <tr>\n",
              "      <th>1</th>\n",
              "      <td>9</td>\n",
              "      <td>5</td>\n",
              "      <td>5</td>\n",
              "      <td>1213</td>\n",
              "      <td>743</td>\n",
              "      <td>1.806874</td>\n",
              "      <td>668</td>\n",
              "      <td>0</td>\n",
              "      <td>0.6890</td>\n",
              "      <td>2147483647</td>\n",
              "      <td>648.797378</td>\n",
              "      <td>0.0</td>\n",
              "      <td>366.095591</td>\n",
              "      <td>1547.304718</td>\n",
              "      <td>490.697626</td>\n",
              "      <td>218.634327</td>\n",
              "      <td>0.0</td>\n",
              "      <td>2840.981562</td>\n",
              "      <td>694.86998</td>\n",
              "      <td>0.043064</td>\n",
              "      <td>3.500000</td>\n",
              "      <td>9.536743e-07</td>\n",
              "      <td>0.195949</td>\n",
              "      <td>0.011466</td>\n",
              "      <td>0.000000e+00</td>\n",
              "      <td>0.057044</td>\n",
              "      <td>0.689025</td>\n",
              "      <td>0.085983</td>\n",
              "      <td>0.003254</td>\n",
              "      <td>0.046643</td>\n",
              "      <td>2.0</td>\n",
              "      <td>0.000000</td>\n",
              "      <td>0.286143</td>\n",
              "      <td>9.536743e-07</td>\n",
              "      <td>0.000000e+00</td>\n",
              "      <td>0.085642</td>\n",
              "      <td>0.551958</td>\n",
              "      <td>0.088185</td>\n",
              "      <td>0.007335</td>\n",
              "      <td>0.022967</td>\n",
              "      <td>...</td>\n",
              "      <td>167.211532</td>\n",
              "      <td>679</td>\n",
              "      <td>60.5</td>\n",
              "      <td>27959.696429</td>\n",
              "      <td>10</td>\n",
              "      <td>5</td>\n",
              "      <td>0.823481</td>\n",
              "      <td>5</td>\n",
              "      <td>139</td>\n",
              "      <td>64</td>\n",
              "      <td>0</td>\n",
              "      <td>64</td>\n",
              "      <td>64</td>\n",
              "      <td>64</td>\n",
              "      <td>64</td>\n",
              "      <td>0</td>\n",
              "      <td>1088</td>\n",
              "      <td>64</td>\n",
              "      <td>0</td>\n",
              "      <td>129.8</td>\n",
              "      <td>0.371232</td>\n",
              "      <td>107.0</td>\n",
              "      <td>235</td>\n",
              "      <td>108.0</td>\n",
              "      <td>42</td>\n",
              "      <td>51.581420</td>\n",
              "      <td>512</td>\n",
              "      <td>229.0</td>\n",
              "      <td>2660.642857</td>\n",
              "      <td>135.000000</td>\n",
              "      <td>1.160887</td>\n",
              "      <td>64.0</td>\n",
              "      <td>235</td>\n",
              "      <td>64.0</td>\n",
              "      <td>42</td>\n",
              "      <td>79.310151</td>\n",
              "      <td>4185</td>\n",
              "      <td>235.0</td>\n",
              "      <td>6290.100000</td>\n",
              "      <td>security_camera</td>\n",
              "    </tr>\n",
              "    <tr>\n",
              "      <th>2</th>\n",
              "      <td>9</td>\n",
              "      <td>5</td>\n",
              "      <td>5</td>\n",
              "      <td>1213</td>\n",
              "      <td>743</td>\n",
              "      <td>0.103124</td>\n",
              "      <td>668</td>\n",
              "      <td>0</td>\n",
              "      <td>0.9852</td>\n",
              "      <td>2147483647</td>\n",
              "      <td>648.797378</td>\n",
              "      <td>0.0</td>\n",
              "      <td>366.095591</td>\n",
              "      <td>1547.304718</td>\n",
              "      <td>490.697626</td>\n",
              "      <td>218.634327</td>\n",
              "      <td>0.0</td>\n",
              "      <td>2840.981562</td>\n",
              "      <td>694.86998</td>\n",
              "      <td>0.020524</td>\n",
              "      <td>4.754888</td>\n",
              "      <td>1.579523e-03</td>\n",
              "      <td>0.121923</td>\n",
              "      <td>0.001921</td>\n",
              "      <td>9.536743e-07</td>\n",
              "      <td>0.036243</td>\n",
              "      <td>0.985172</td>\n",
              "      <td>0.013639</td>\n",
              "      <td>0.001314</td>\n",
              "      <td>0.032042</td>\n",
              "      <td>2.0</td>\n",
              "      <td>0.002094</td>\n",
              "      <td>0.196619</td>\n",
              "      <td>3.602386e-03</td>\n",
              "      <td>9.536743e-07</td>\n",
              "      <td>0.052939</td>\n",
              "      <td>0.551958</td>\n",
              "      <td>0.041513</td>\n",
              "      <td>0.002802</td>\n",
              "      <td>0.012794</td>\n",
              "      <td>...</td>\n",
              "      <td>167.211532</td>\n",
              "      <td>679</td>\n",
              "      <td>60.5</td>\n",
              "      <td>27959.696429</td>\n",
              "      <td>10</td>\n",
              "      <td>5</td>\n",
              "      <td>0.591825</td>\n",
              "      <td>5</td>\n",
              "      <td>139</td>\n",
              "      <td>64</td>\n",
              "      <td>0</td>\n",
              "      <td>64</td>\n",
              "      <td>64</td>\n",
              "      <td>64</td>\n",
              "      <td>64</td>\n",
              "      <td>0</td>\n",
              "      <td>3136</td>\n",
              "      <td>64</td>\n",
              "      <td>0</td>\n",
              "      <td>129.8</td>\n",
              "      <td>0.216397</td>\n",
              "      <td>107.0</td>\n",
              "      <td>235</td>\n",
              "      <td>108.0</td>\n",
              "      <td>43</td>\n",
              "      <td>35.653505</td>\n",
              "      <td>512</td>\n",
              "      <td>229.0</td>\n",
              "      <td>1271.172414</td>\n",
              "      <td>125.115385</td>\n",
              "      <td>1.032496</td>\n",
              "      <td>64.0</td>\n",
              "      <td>235</td>\n",
              "      <td>64.0</td>\n",
              "      <td>43</td>\n",
              "      <td>79.310151</td>\n",
              "      <td>7140</td>\n",
              "      <td>235.0</td>\n",
              "      <td>6290.100000</td>\n",
              "      <td>security_camera</td>\n",
              "    </tr>\n",
              "    <tr>\n",
              "      <th>3</th>\n",
              "      <td>9</td>\n",
              "      <td>5</td>\n",
              "      <td>5</td>\n",
              "      <td>1213</td>\n",
              "      <td>743</td>\n",
              "      <td>1.806874</td>\n",
              "      <td>668</td>\n",
              "      <td>0</td>\n",
              "      <td>1.5756</td>\n",
              "      <td>2147483647</td>\n",
              "      <td>648.797378</td>\n",
              "      <td>0.0</td>\n",
              "      <td>366.095591</td>\n",
              "      <td>1547.304718</td>\n",
              "      <td>490.697626</td>\n",
              "      <td>218.634327</td>\n",
              "      <td>0.0</td>\n",
              "      <td>2840.981562</td>\n",
              "      <td>694.86998</td>\n",
              "      <td>0.178558</td>\n",
              "      <td>3.418296</td>\n",
              "      <td>2.477586e-03</td>\n",
              "      <td>0.425632</td>\n",
              "      <td>0.117489</td>\n",
              "      <td>0.000000e+00</td>\n",
              "      <td>0.183261</td>\n",
              "      <td>2.142692</td>\n",
              "      <td>0.361198</td>\n",
              "      <td>0.033585</td>\n",
              "      <td>0.161996</td>\n",
              "      <td>2.0</td>\n",
              "      <td>0.000002</td>\n",
              "      <td>0.342990</td>\n",
              "      <td>3.484964e-03</td>\n",
              "      <td>0.000000e+00</td>\n",
              "      <td>0.115842</td>\n",
              "      <td>0.551958</td>\n",
              "      <td>0.244938</td>\n",
              "      <td>0.013419</td>\n",
              "      <td>0.089279</td>\n",
              "      <td>...</td>\n",
              "      <td>167.211532</td>\n",
              "      <td>679</td>\n",
              "      <td>60.5</td>\n",
              "      <td>27959.696429</td>\n",
              "      <td>10</td>\n",
              "      <td>5</td>\n",
              "      <td>0.833287</td>\n",
              "      <td>5</td>\n",
              "      <td>2147483647</td>\n",
              "      <td>64</td>\n",
              "      <td>0</td>\n",
              "      <td>64</td>\n",
              "      <td>64</td>\n",
              "      <td>64</td>\n",
              "      <td>64</td>\n",
              "      <td>0</td>\n",
              "      <td>832</td>\n",
              "      <td>64</td>\n",
              "      <td>0</td>\n",
              "      <td>42.0</td>\n",
              "      <td>0.000000</td>\n",
              "      <td>42.0</td>\n",
              "      <td>42</td>\n",
              "      <td>42.0</td>\n",
              "      <td>42</td>\n",
              "      <td>0.000000</td>\n",
              "      <td>504</td>\n",
              "      <td>42.0</td>\n",
              "      <td>0.000000</td>\n",
              "      <td>53.440000</td>\n",
              "      <td>0.998846</td>\n",
              "      <td>42.0</td>\n",
              "      <td>64</td>\n",
              "      <td>64.0</td>\n",
              "      <td>42</td>\n",
              "      <td>11.217843</td>\n",
              "      <td>1336</td>\n",
              "      <td>64.0</td>\n",
              "      <td>125.840000</td>\n",
              "      <td>security_camera</td>\n",
              "    </tr>\n",
              "    <tr>\n",
              "      <th>4</th>\n",
              "      <td>9</td>\n",
              "      <td>5</td>\n",
              "      <td>5</td>\n",
              "      <td>1213</td>\n",
              "      <td>743</td>\n",
              "      <td>1.806874</td>\n",
              "      <td>668</td>\n",
              "      <td>0</td>\n",
              "      <td>1.5756</td>\n",
              "      <td>2147483647</td>\n",
              "      <td>648.797378</td>\n",
              "      <td>0.0</td>\n",
              "      <td>366.095591</td>\n",
              "      <td>1547.304718</td>\n",
              "      <td>490.697626</td>\n",
              "      <td>218.634327</td>\n",
              "      <td>0.0</td>\n",
              "      <td>2840.981562</td>\n",
              "      <td>694.86998</td>\n",
              "      <td>0.170562</td>\n",
              "      <td>3.584963</td>\n",
              "      <td>3.391683e-03</td>\n",
              "      <td>0.406019</td>\n",
              "      <td>0.061885</td>\n",
              "      <td>0.000000e+00</td>\n",
              "      <td>0.188883</td>\n",
              "      <td>2.046741</td>\n",
              "      <td>0.373967</td>\n",
              "      <td>0.035677</td>\n",
              "      <td>0.208749</td>\n",
              "      <td>2.0</td>\n",
              "      <td>0.000001</td>\n",
              "      <td>0.342990</td>\n",
              "      <td>1.660266e-01</td>\n",
              "      <td>0.000000e+00</td>\n",
              "      <td>0.115842</td>\n",
              "      <td>0.551958</td>\n",
              "      <td>0.244938</td>\n",
              "      <td>0.013419</td>\n",
              "      <td>0.097464</td>\n",
              "      <td>...</td>\n",
              "      <td>167.211532</td>\n",
              "      <td>679</td>\n",
              "      <td>60.5</td>\n",
              "      <td>27959.696429</td>\n",
              "      <td>10</td>\n",
              "      <td>5</td>\n",
              "      <td>0.692254</td>\n",
              "      <td>5</td>\n",
              "      <td>2147483647</td>\n",
              "      <td>64</td>\n",
              "      <td>0</td>\n",
              "      <td>64</td>\n",
              "      <td>64</td>\n",
              "      <td>64</td>\n",
              "      <td>64</td>\n",
              "      <td>0</td>\n",
              "      <td>832</td>\n",
              "      <td>64</td>\n",
              "      <td>0</td>\n",
              "      <td>42.0</td>\n",
              "      <td>0.000000</td>\n",
              "      <td>42.0</td>\n",
              "      <td>42</td>\n",
              "      <td>42.0</td>\n",
              "      <td>42</td>\n",
              "      <td>0.000000</td>\n",
              "      <td>378</td>\n",
              "      <td>42.0</td>\n",
              "      <td>0.000000</td>\n",
              "      <td>55.000000</td>\n",
              "      <td>0.976021</td>\n",
              "      <td>42.0</td>\n",
              "      <td>64</td>\n",
              "      <td>64.0</td>\n",
              "      <td>42</td>\n",
              "      <td>11.071198</td>\n",
              "      <td>1210</td>\n",
              "      <td>64.0</td>\n",
              "      <td>122.571429</td>\n",
              "      <td>security_camera</td>\n",
              "    </tr>\n",
              "  </tbody>\n",
              "</table>\n",
              "<p>5 rows × 114 columns</p>\n",
              "</div>"
            ],
            "text/plain": [
              "   ack  ack_A  ack_B  bytes  ...  ttl_sum  ttl_thirdQ      ttl_var  device_category\n",
              "0    9      5      5   1213  ...     7140        64.0    91.248560  security_camera\n",
              "1    9      5      5   1213  ...     4185       235.0  6290.100000  security_camera\n",
              "2    9      5      5   1213  ...     7140       235.0  6290.100000  security_camera\n",
              "3    9      5      5   1213  ...     1336        64.0   125.840000  security_camera\n",
              "4    9      5      5   1213  ...     1210        64.0   122.571429  security_camera\n",
              "\n",
              "[5 rows x 114 columns]"
            ]
          },
          "metadata": {},
          "execution_count": 88
        }
      ]
    },
    {
      "cell_type": "code",
      "metadata": {
        "colab": {
          "base_uri": "https://localhost:8080/"
        },
        "id": "gBTGOSrS_sVg",
        "outputId": "409c29a4-4ee1-4c19-8bc3-0945f27ce296"
      },
      "source": [
        "dataset.columns"
      ],
      "execution_count": 89,
      "outputs": [
        {
          "output_type": "execute_result",
          "data": {
            "text/plain": [
              "Index(['ack', 'ack_A', 'ack_B', 'bytes', 'bytes_A', 'bytes_A_B_ratio',\n",
              "       'bytes_B', 'ds_field_B', 'duration', 'http_dom_host_alexaRank',\n",
              "       ...\n",
              "       'ttl_entropy', 'ttl_firstQ', 'ttl_max', 'ttl_median', 'ttl_min',\n",
              "       'ttl_stdev', 'ttl_sum', 'ttl_thirdQ', 'ttl_var', 'device_category'],\n",
              "      dtype='object', length=114)"
            ]
          },
          "metadata": {},
          "execution_count": 89
        }
      ]
    },
    {
      "cell_type": "code",
      "metadata": {
        "colab": {
          "base_uri": "https://localhost:8080/"
        },
        "id": "R1qd-0liABK7",
        "outputId": "db9ab5fd-df42-4d14-887f-31cfba205959"
      },
      "source": [
        "dataset['device_category'].nunique()"
      ],
      "execution_count": 90,
      "outputs": [
        {
          "output_type": "execute_result",
          "data": {
            "text/plain": [
              "10"
            ]
          },
          "metadata": {},
          "execution_count": 90
        }
      ]
    },
    {
      "cell_type": "code",
      "metadata": {
        "id": "wdnVsJ-bRhFa"
      },
      "source": [
        "X =  dataset.iloc[:, :-1]\n",
        "y = dataset.iloc[:, -1] # the first : is for the rows"
      ],
      "execution_count": 91,
      "outputs": []
    },
    {
      "cell_type": "code",
      "metadata": {
        "id": "L3Ga5yb_RkuO"
      },
      "source": [
        "import seaborn as sns\n",
        "import warnings\n",
        "warnings.filterwarnings(\"ignore\")"
      ],
      "execution_count": 92,
      "outputs": []
    },
    {
      "cell_type": "code",
      "metadata": {
        "colab": {
          "base_uri": "https://localhost:8080/"
        },
        "id": "sq1M7RORRsLL",
        "outputId": "b40b41c6-bbbc-4277-ae57-1d4936f44e08"
      },
      "source": [
        "print(\"Are there missing data? :\", dataset.isnull().any().any())"
      ],
      "execution_count": 93,
      "outputs": [
        {
          "output_type": "stream",
          "name": "stdout",
          "text": [
            "Are there missing data? : False\n"
          ]
        }
      ]
    },
    {
      "cell_type": "code",
      "metadata": {
        "colab": {
          "base_uri": "https://localhost:8080/"
        },
        "id": "QMMHVaesRsW9",
        "outputId": "94a91971-b707-4462-9ef4-395daa956778"
      },
      "source": [
        "discrete_features=[]\n",
        "for col in dataset.columns[:-1]: # excluding the last columns\n",
        "  if np.array_equal(dataset[col].values, dataset[col].values.astype(int)):\n",
        "    discrete_features.append(col)\n",
        "\n",
        "print(f'Total discrete features {len(discrete_features)} : ')\n",
        "print(discrete_features)"
      ],
      "execution_count": 94,
      "outputs": [
        {
          "output_type": "stream",
          "name": "stdout",
          "text": [
            "Total discrete features 36 : \n",
            "['ack', 'ack_A', 'ack_B', 'bytes', 'bytes_A', 'bytes_B', 'ds_field_B', 'http_dom_host_alexaRank', 'packet_size_A_max', 'packet_size_A_sum', 'packet_size_B_max', 'packet_size_B_min', 'packet_size_B_sum', 'packet_size_max', 'packet_size_min', 'packet_size_sum', 'packets', 'packets_A', 'packets_B', 'ssl_dom_server_name_alexaRank', 'ttl_A_avg', 'ttl_A_entropy', 'ttl_A_firstQ', 'ttl_A_max', 'ttl_A_median', 'ttl_A_min', 'ttl_A_stdev', 'ttl_A_sum', 'ttl_A_thirdQ', 'ttl_A_var', 'ttl_B_max', 'ttl_B_min', 'ttl_B_sum', 'ttl_max', 'ttl_min', 'ttl_sum']\n"
          ]
        }
      ]
    },
    {
      "cell_type": "code",
      "metadata": {
        "id": "bEQGZWkVR01V"
      },
      "source": [
        "X = X.values\n",
        "y = y.values"
      ],
      "execution_count": 95,
      "outputs": []
    },
    {
      "cell_type": "code",
      "metadata": {
        "id": "4_yW-3vl9kMi"
      },
      "source": [
        "#Onehotencoding (getdummies)\n",
        "y_label = pd.get_dummies(y[::-1]).values"
      ],
      "execution_count": 96,
      "outputs": []
    },
    {
      "cell_type": "code",
      "metadata": {
        "colab": {
          "base_uri": "https://localhost:8080/"
        },
        "id": "QiF9tyUS-DRV",
        "outputId": "117bfb7f-f2e4-412d-f837-3abb0b613b0f"
      },
      "source": [
        "y_label.shape"
      ],
      "execution_count": 97,
      "outputs": [
        {
          "output_type": "execute_result",
          "data": {
            "text/plain": [
              "(1900, 10)"
            ]
          },
          "metadata": {},
          "execution_count": 97
        }
      ]
    },
    {
      "cell_type": "code",
      "metadata": {
        "id": "jfgkABWUdKpz"
      },
      "source": [
        "#feature selection\n",
        "#from sklearn.feature_selection import SelectKBest, f_classif\n",
        "#from sklearn.feature_selection import SelectKBest\n",
        "#from sklearn.feature_selection import mutual_info_classif\n",
        "\n",
        "#def select_features(X_train, y_train, X_test):\n",
        " # selector = SelectKBest(score_func= f_classif, k= 'all')\n",
        "  #selector.fit(X_train, y_train)\n",
        "  #X_train_selector = selector.transform(X_train)\n",
        "  #X_test_selector = selector.transform(X_test)\n",
        "  #return X_train_selector, X_test_selector, selector\n",
        "\n",
        "#"
      ],
      "execution_count": 98,
      "outputs": []
    },
    {
      "cell_type": "code",
      "metadata": {
        "id": "MH_RM4UL1rU-"
      },
      "source": [
        "#X_train_selector, X_test_selector, selector = select_features(X_train, y_train, X_test)"
      ],
      "execution_count": 99,
      "outputs": []
    },
    {
      "cell_type": "code",
      "metadata": {
        "id": "C8g5u3CW1FX5"
      },
      "source": [
        "#X_train_selector = pd.DataFrame(X_train_selector)"
      ],
      "execution_count": 100,
      "outputs": []
    },
    {
      "cell_type": "code",
      "metadata": {
        "id": "QyIJaw7X1Kc3"
      },
      "source": [
        "#X_train =  X_train_selector.iloc[:, :-1]\n",
        "\n",
        "#y_train = X_train_selector.iloc[:, -1] "
      ],
      "execution_count": 101,
      "outputs": []
    },
    {
      "cell_type": "code",
      "metadata": {
        "id": "xl_KAMrbzpUZ"
      },
      "source": [
        "#X_test_selector = pd.DataFrame(X_test_selector)\n"
      ],
      "execution_count": 102,
      "outputs": []
    },
    {
      "cell_type": "code",
      "metadata": {
        "id": "6D9kBxlE1RAv"
      },
      "source": [
        "#X_test =  X_test_selector.iloc[:, :-1]\n",
        "#y_test = X_test_selector.iloc[:, -1] \n"
      ],
      "execution_count": 103,
      "outputs": []
    },
    {
      "cell_type": "code",
      "metadata": {
        "id": "jayHgYDTxlv4"
      },
      "source": [
        "#X_train_selector"
      ],
      "execution_count": 104,
      "outputs": []
    },
    {
      "cell_type": "code",
      "metadata": {
        "id": "2KmFYq_jxvea"
      },
      "source": [
        "#X_train_selector.shape"
      ],
      "execution_count": 105,
      "outputs": []
    },
    {
      "cell_type": "code",
      "metadata": {
        "id": "080ITc-px3C3"
      },
      "source": [
        "#X.shape"
      ],
      "execution_count": 106,
      "outputs": []
    },
    {
      "cell_type": "code",
      "metadata": {
        "id": "AjcD1CpqR9A1"
      },
      "source": [
        "from sklearn.model_selection import train_test_split\n",
        "X_train, X_test, y_train, y_test = train_test_split(X, y, test_size=0.2, random_state=1)"
      ],
      "execution_count": 107,
      "outputs": []
    },
    {
      "cell_type": "code",
      "metadata": {
        "id": "RDt-T24NTIhk"
      },
      "source": [
        "from sklearn.preprocessing import StandardScaler\n",
        "sc = StandardScaler()\n",
        "X_train = sc.fit_transform(X_train)\n",
        "X_test = sc.transform(X_test)"
      ],
      "execution_count": 108,
      "outputs": []
    },
    {
      "cell_type": "code",
      "metadata": {
        "id": "gs_oBfEWTP3L",
        "colab": {
          "base_uri": "https://localhost:8080/"
        },
        "outputId": "a6044526-7e30-432a-ad31-ba3ae59d969d"
      },
      "source": [
        "print(X_train)"
      ],
      "execution_count": 109,
      "outputs": [
        {
          "output_type": "stream",
          "name": "stdout",
          "text": [
            "[[-0.07378608 -0.07038395 -0.07735756 ... -0.09570581 -1.18542209\n",
            "  -0.67219999]\n",
            " [-0.0657733  -0.06365491 -0.0681036  ... -0.04388545  0.59031775\n",
            "   1.06100404]\n",
            " [-0.08513751 -0.08384202 -0.08661153 ... -0.10545454 -1.18542209\n",
            "  -0.68230559]\n",
            " ...\n",
            " [-0.06911196 -0.06500072 -0.07339158 ... -0.0552963   0.59031775\n",
            "   1.03077448]\n",
            " [-0.08847617 -0.08518783 -0.09057751 ... -0.03411314  0.90819711\n",
            "   0.94110825]\n",
            " [-0.06911196 -0.06500072 -0.07339158 ... -0.0553906   0.5793564\n",
            "   1.0209381 ]]\n"
          ]
        }
      ]
    },
    {
      "cell_type": "code",
      "metadata": {
        "id": "Vw7WZsVSTVhC",
        "colab": {
          "base_uri": "https://localhost:8080/"
        },
        "outputId": "75fe1cc1-cdfe-457c-b136-304cebd64775"
      },
      "source": [
        "print(X_test)"
      ],
      "execution_count": 110,
      "outputs": [
        {
          "output_type": "stream",
          "name": "stdout",
          "text": [
            "[[-0.07578927 -0.07442137 -0.07735756 ... -0.09819309 -1.18542209\n",
            "  -0.67543569]\n",
            " [-0.09448575 -0.09191686 -0.09718748 ... -0.10625613  0.90819711\n",
            "  -0.68230559]\n",
            " [-0.09448575 -0.09191686 -0.09718748 ... -0.10625613  0.90819711\n",
            "  -0.68230559]\n",
            " ...\n",
            " [-0.09448575 -0.09191686 -0.09718748 ... -0.0942323   0.90819711\n",
            "  -0.68230559]\n",
            " [-0.08847617 -0.08518783 -0.09057751 ... -0.10105759 -1.18542209\n",
            "  -0.63911746]\n",
            " [-0.08981163 -0.08787944 -0.0918995  ... -0.11009904 -0.48389524\n",
            "  -0.18037525]]\n"
          ]
        }
      ]
    },
    {
      "cell_type": "code",
      "metadata": {
        "id": "wGFzuC84SP7f"
      },
      "source": [
        "#from sklearn import preprocessing\n",
        "\n",
        "#le = preprocessing.LabelEncoder()\n",
        "#le.fit(dataset[\"device_category\"].unique())\n",
        "#y_train_encoded = le.transform(y_train)\n",
        "#x_test_encoded = le.transform(y_test)"
      ],
      "execution_count": 111,
      "outputs": []
    },
    {
      "cell_type": "code",
      "metadata": {
        "id": "9rWTCHQvWCzb",
        "colab": {
          "base_uri": "https://localhost:8080/"
        },
        "outputId": "a065a422-f532-4e69-e197-7aaf17ac92d4"
      },
      "source": [
        "X.shape"
      ],
      "execution_count": 112,
      "outputs": [
        {
          "output_type": "execute_result",
          "data": {
            "text/plain": [
              "(1900, 113)"
            ]
          },
          "metadata": {},
          "execution_count": 112
        }
      ]
    },
    {
      "cell_type": "code",
      "metadata": {
        "id": "YsGP3jYpZ3Oy"
      },
      "source": [
        "#from matplotlib import pyplot\n",
        "#for i in range(len(selector.scores_)):\n",
        "#\tprint('Feature %d: %f' % (i, selector.scores_[i]))\n",
        "\n",
        "# plot the scores\n",
        "#pyplot.bar([i for i in range(len(selector.scores_))], selector.scores_)\n",
        "#bestsorted = selector.scores_\n",
        "#pyplot.show()"
      ],
      "execution_count": 113,
      "outputs": []
    },
    {
      "cell_type": "code",
      "metadata": {
        "id": "5_WBM633anxw",
        "colab": {
          "base_uri": "https://localhost:8080/"
        },
        "outputId": "8b939368-9a71-444a-f472-372e7d1e249a"
      },
      "source": [
        "X.shape"
      ],
      "execution_count": 114,
      "outputs": [
        {
          "output_type": "execute_result",
          "data": {
            "text/plain": [
              "(1900, 113)"
            ]
          },
          "metadata": {},
          "execution_count": 114
        }
      ]
    },
    {
      "cell_type": "code",
      "metadata": {
        "id": "h7Z6T4LpSUFr",
        "colab": {
          "base_uri": "https://localhost:8080/"
        },
        "outputId": "9d20c519-3c66-4332-8635-3c3a70ec69a7"
      },
      "source": [
        "from sklearn.neighbors import KNeighborsClassifier\n",
        "classifier = KNeighborsClassifier(n_neighbors = 6, metric = 'minkowski', p = 2)\n",
        "classifier.fit(X_train, y_train)"
      ],
      "execution_count": 115,
      "outputs": [
        {
          "output_type": "execute_result",
          "data": {
            "text/plain": [
              "KNeighborsClassifier(algorithm='auto', leaf_size=30, metric='minkowski',\n",
              "                     metric_params=None, n_jobs=None, n_neighbors=6, p=2,\n",
              "                     weights='uniform')"
            ]
          },
          "metadata": {},
          "execution_count": 115
        }
      ]
    },
    {
      "cell_type": "code",
      "metadata": {
        "id": "lJm-FyZMSmu-",
        "colab": {
          "base_uri": "https://localhost:8080/"
        },
        "outputId": "69b4d174-dcb7-42d7-9ee6-225dd8426f71"
      },
      "source": [
        "y_pred = classifier.predict(X_test)\n",
        "print(np.concatenate((y_pred.reshape(len(y_pred),1), y_test.reshape(len(y_test),1)),1))"
      ],
      "execution_count": 116,
      "outputs": [
        {
          "output_type": "stream",
          "name": "stdout",
          "text": [
            "[['thermostat' 'watch']\n",
            " ['socket' 'water_sensor']\n",
            " ['socket' 'lights']\n",
            " ['lights' 'water_sensor']\n",
            " ['baby_monitor' 'baby_monitor']\n",
            " ['baby_monitor' 'baby_monitor']\n",
            " ['socket' 'socket']\n",
            " ['TV' 'TV']\n",
            " ['security_camera' 'security_camera']\n",
            " ['thermostat' 'thermostat']\n",
            " ['baby_monitor' 'baby_monitor']\n",
            " ['security_camera' 'security_camera']\n",
            " ['socket' 'socket']\n",
            " ['thermostat' 'thermostat']\n",
            " ['thermostat' 'thermostat']\n",
            " ['water_sensor' 'socket']\n",
            " ['socket' 'lights']\n",
            " ['lights' 'lights']\n",
            " ['security_camera' 'security_camera']\n",
            " ['TV' 'TV']\n",
            " ['baby_monitor' 'baby_monitor']\n",
            " ['TV' 'TV']\n",
            " ['socket' 'water_sensor']\n",
            " ['security_camera' 'TV']\n",
            " ['baby_monitor' 'baby_monitor']\n",
            " ['watch' 'baby_monitor']\n",
            " ['motion_sensor' 'motion_sensor']\n",
            " ['security_camera' 'security_camera']\n",
            " ['thermostat' 'thermostat']\n",
            " ['baby_monitor' 'baby_monitor']\n",
            " ['socket' 'socket']\n",
            " ['socket' 'socket']\n",
            " ['thermostat' 'thermostat']\n",
            " ['thermostat' 'thermostat']\n",
            " ['watch' 'watch']\n",
            " ['thermostat' 'thermostat']\n",
            " ['baby_monitor' 'TV']\n",
            " ['lights' 'lights']\n",
            " ['motion_sensor' 'motion_sensor']\n",
            " ['smoke_detector' 'smoke_detector']\n",
            " ['water_sensor' 'lights']\n",
            " ['security_camera' 'security_camera']\n",
            " ['TV' 'watch']\n",
            " ['smoke_detector' 'smoke_detector']\n",
            " ['lights' 'lights']\n",
            " ['thermostat' 'thermostat']\n",
            " ['smoke_detector' 'smoke_detector']\n",
            " ['smoke_detector' 'smoke_detector']\n",
            " ['lights' 'lights']\n",
            " ['motion_sensor' 'baby_monitor']\n",
            " ['TV' 'TV']\n",
            " ['baby_monitor' 'baby_monitor']\n",
            " ['baby_monitor' 'baby_monitor']\n",
            " ['motion_sensor' 'motion_sensor']\n",
            " ['socket' 'lights']\n",
            " ['watch' 'watch']\n",
            " ['baby_monitor' 'thermostat']\n",
            " ['smoke_detector' 'smoke_detector']\n",
            " ['socket' 'lights']\n",
            " ['smoke_detector' 'smoke_detector']\n",
            " ['TV' 'TV']\n",
            " ['watch' 'watch']\n",
            " ['socket' 'water_sensor']\n",
            " ['thermostat' 'watch']\n",
            " ['watch' 'watch']\n",
            " ['smoke_detector' 'smoke_detector']\n",
            " ['smoke_detector' 'smoke_detector']\n",
            " ['lights' 'lights']\n",
            " ['lights' 'lights']\n",
            " ['smoke_detector' 'smoke_detector']\n",
            " ['motion_sensor' 'motion_sensor']\n",
            " ['smoke_detector' 'smoke_detector']\n",
            " ['lights' 'water_sensor']\n",
            " ['lights' 'lights']\n",
            " ['TV' 'TV']\n",
            " ['motion_sensor' 'motion_sensor']\n",
            " ['smoke_detector' 'smoke_detector']\n",
            " ['security_camera' 'security_camera']\n",
            " ['TV' 'TV']\n",
            " ['lights' 'lights']\n",
            " ['smoke_detector' 'smoke_detector']\n",
            " ['smoke_detector' 'smoke_detector']\n",
            " ['lights' 'socket']\n",
            " ['baby_monitor' 'baby_monitor']\n",
            " ['watch' 'watch']\n",
            " ['thermostat' 'thermostat']\n",
            " ['lights' 'lights']\n",
            " ['socket' 'lights']\n",
            " ['socket' 'water_sensor']\n",
            " ['TV' 'TV']\n",
            " ['smoke_detector' 'smoke_detector']\n",
            " ['TV' 'watch']\n",
            " ['baby_monitor' 'baby_monitor']\n",
            " ['smoke_detector' 'smoke_detector']\n",
            " ['motion_sensor' 'motion_sensor']\n",
            " ['smoke_detector' 'smoke_detector']\n",
            " ['motion_sensor' 'motion_sensor']\n",
            " ['socket' 'lights']\n",
            " ['motion_sensor' 'motion_sensor']\n",
            " ['lights' 'lights']\n",
            " ['motion_sensor' 'motion_sensor']\n",
            " ['thermostat' 'thermostat']\n",
            " ['lights' 'socket']\n",
            " ['lights' 'motion_sensor']\n",
            " ['lights' 'socket']\n",
            " ['lights' 'lights']\n",
            " ['baby_monitor' 'baby_monitor']\n",
            " ['motion_sensor' 'motion_sensor']\n",
            " ['socket' 'socket']\n",
            " ['TV' 'TV']\n",
            " ['watch' 'watch']\n",
            " ['motion_sensor' 'motion_sensor']\n",
            " ['thermostat' 'thermostat']\n",
            " ['security_camera' 'security_camera']\n",
            " ['lights' 'lights']\n",
            " ['socket' 'socket']\n",
            " ['baby_monitor' 'baby_monitor']\n",
            " ['socket' 'socket']\n",
            " ['baby_monitor' 'watch']\n",
            " ['thermostat' 'thermostat']\n",
            " ['TV' 'TV']\n",
            " ['TV' 'TV']\n",
            " ['motion_sensor' 'thermostat']\n",
            " ['baby_monitor' 'baby_monitor']\n",
            " ['smoke_detector' 'smoke_detector']\n",
            " ['water_sensor' 'water_sensor']\n",
            " ['TV' 'TV']\n",
            " ['TV' 'watch']\n",
            " ['TV' 'TV']\n",
            " ['thermostat' 'thermostat']\n",
            " ['security_camera' 'security_camera']\n",
            " ['motion_sensor' 'motion_sensor']\n",
            " ['baby_monitor' 'baby_monitor']\n",
            " ['lights' 'lights']\n",
            " ['baby_monitor' 'baby_monitor']\n",
            " ['socket' 'water_sensor']\n",
            " ['motion_sensor' 'motion_sensor']\n",
            " ['watch' 'watch']\n",
            " ['thermostat' 'thermostat']\n",
            " ['TV' 'TV']\n",
            " ['motion_sensor' 'motion_sensor']\n",
            " ['smoke_detector' 'smoke_detector']\n",
            " ['watch' 'watch']\n",
            " ['thermostat' 'thermostat']\n",
            " ['thermostat' 'thermostat']\n",
            " ['TV' 'watch']\n",
            " ['security_camera' 'security_camera']\n",
            " ['motion_sensor' 'motion_sensor']\n",
            " ['security_camera' 'security_camera']\n",
            " ['socket' 'socket']\n",
            " ['lights' 'lights']\n",
            " ['smoke_detector' 'smoke_detector']\n",
            " ['lights' 'lights']\n",
            " ['lights' 'lights']\n",
            " ['socket' 'socket']\n",
            " ['lights' 'socket']\n",
            " ['baby_monitor' 'baby_monitor']\n",
            " ['motion_sensor' 'motion_sensor']\n",
            " ['security_camera' 'security_camera']\n",
            " ['TV' 'TV']\n",
            " ['baby_monitor' 'baby_monitor']\n",
            " ['baby_monitor' 'baby_monitor']\n",
            " ['smoke_detector' 'motion_sensor']\n",
            " ['socket' 'water_sensor']\n",
            " ['thermostat' 'thermostat']\n",
            " ['socket' 'water_sensor']\n",
            " ['lights' 'lights']\n",
            " ['thermostat' 'thermostat']\n",
            " ['motion_sensor' 'motion_sensor']\n",
            " ['water_sensor' 'socket']\n",
            " ['security_camera' 'security_camera']\n",
            " ['watch' 'watch']\n",
            " ['baby_monitor' 'baby_monitor']\n",
            " ['baby_monitor' 'TV']\n",
            " ['water_sensor' 'lights']\n",
            " ['smoke_detector' 'smoke_detector']\n",
            " ['security_camera' 'security_camera']\n",
            " ['watch' 'watch']\n",
            " ['smoke_detector' 'smoke_detector']\n",
            " ['baby_monitor' 'baby_monitor']\n",
            " ['lights' 'socket']\n",
            " ['TV' 'TV']\n",
            " ['motion_sensor' 'motion_sensor']\n",
            " ['TV' 'TV']\n",
            " ['security_camera' 'security_camera']\n",
            " ['lights' 'lights']\n",
            " ['motion_sensor' 'motion_sensor']\n",
            " ['motion_sensor' 'motion_sensor']\n",
            " ['security_camera' 'security_camera']\n",
            " ['water_sensor' 'socket']\n",
            " ['socket' 'socket']\n",
            " ['water_sensor' 'water_sensor']\n",
            " ['security_camera' 'security_camera']\n",
            " ['lights' 'socket']\n",
            " ['baby_monitor' 'TV']\n",
            " ['thermostat' 'thermostat']\n",
            " ['socket' 'water_sensor']\n",
            " ['thermostat' 'thermostat']\n",
            " ['smoke_detector' 'smoke_detector']\n",
            " ['socket' 'water_sensor']\n",
            " ['motion_sensor' 'motion_sensor']\n",
            " ['lights' 'socket']\n",
            " ['watch' 'watch']\n",
            " ['TV' 'watch']\n",
            " ['thermostat' 'thermostat']\n",
            " ['smoke_detector' 'smoke_detector']\n",
            " ['TV' 'TV']\n",
            " ['lights' 'socket']\n",
            " ['thermostat' 'thermostat']\n",
            " ['baby_monitor' 'baby_monitor']\n",
            " ['smoke_detector' 'smoke_detector']\n",
            " ['security_camera' 'security_camera']\n",
            " ['lights' 'socket']\n",
            " ['TV' 'TV']\n",
            " ['baby_monitor' 'baby_monitor']\n",
            " ['thermostat' 'baby_monitor']\n",
            " ['thermostat' 'thermostat']\n",
            " ['security_camera' 'security_camera']\n",
            " ['security_camera' 'security_camera']\n",
            " ['lights' 'lights']\n",
            " ['smoke_detector' 'smoke_detector']\n",
            " ['motion_sensor' 'motion_sensor']\n",
            " ['baby_monitor' 'baby_monitor']\n",
            " ['security_camera' 'security_camera']\n",
            " ['socket' 'lights']\n",
            " ['lights' 'lights']\n",
            " ['TV' 'watch']\n",
            " ['baby_monitor' 'baby_monitor']\n",
            " ['baby_monitor' 'baby_monitor']\n",
            " ['water_sensor' 'water_sensor']\n",
            " ['motion_sensor' 'motion_sensor']\n",
            " ['lights' 'lights']\n",
            " ['baby_monitor' 'baby_monitor']\n",
            " ['TV' 'TV']\n",
            " ['watch' 'TV']\n",
            " ['socket' 'socket']\n",
            " ['smoke_detector' 'smoke_detector']\n",
            " ['smoke_detector' 'smoke_detector']\n",
            " ['security_camera' 'security_camera']\n",
            " ['security_camera' 'security_camera']\n",
            " ['security_camera' 'security_camera']\n",
            " ['TV' 'TV']\n",
            " ['TV' 'TV']\n",
            " ['motion_sensor' 'motion_sensor']\n",
            " ['smoke_detector' 'smoke_detector']\n",
            " ['thermostat' 'thermostat']\n",
            " ['thermostat' 'thermostat']\n",
            " ['watch' 'watch']\n",
            " ['baby_monitor' 'watch']\n",
            " ['TV' 'TV']\n",
            " ['thermostat' 'thermostat']\n",
            " ['watch' 'watch']\n",
            " ['security_camera' 'security_camera']\n",
            " ['smoke_detector' 'smoke_detector']\n",
            " ['security_camera' 'security_camera']\n",
            " ['socket' 'lights']\n",
            " ['socket' 'socket']\n",
            " ['motion_sensor' 'motion_sensor']\n",
            " ['TV' 'TV']\n",
            " ['watch' 'watch']\n",
            " ['smoke_detector' 'smoke_detector']\n",
            " ['TV' 'TV']\n",
            " ['motion_sensor' 'motion_sensor']\n",
            " ['security_camera' 'security_camera']\n",
            " ['thermostat' 'thermostat']\n",
            " ['smoke_detector' 'smoke_detector']\n",
            " ['TV' 'TV']\n",
            " ['thermostat' 'thermostat']\n",
            " ['thermostat' 'thermostat']\n",
            " ['watch' 'watch']\n",
            " ['smoke_detector' 'smoke_detector']\n",
            " ['baby_monitor' 'baby_monitor']\n",
            " ['TV' 'watch']\n",
            " ['watch' 'watch']\n",
            " ['socket' 'socket']\n",
            " ['smoke_detector' 'smoke_detector']\n",
            " ['motion_sensor' 'motion_sensor']\n",
            " ['security_camera' 'security_camera']\n",
            " ['security_camera' 'security_camera']\n",
            " ['baby_monitor' 'baby_monitor']\n",
            " ['thermostat' 'thermostat']\n",
            " ['lights' 'water_sensor']\n",
            " ['smoke_detector' 'smoke_detector']\n",
            " ['socket' 'socket']\n",
            " ['smoke_detector' 'smoke_detector']\n",
            " ['lights' 'lights']\n",
            " ['watch' 'watch']\n",
            " ['thermostat' 'thermostat']\n",
            " ['smoke_detector' 'smoke_detector']\n",
            " ['motion_sensor' 'motion_sensor']\n",
            " ['water_sensor' 'water_sensor']\n",
            " ['smoke_detector' 'smoke_detector']\n",
            " ['thermostat' 'thermostat']\n",
            " ['socket' 'socket']\n",
            " ['socket' 'socket']\n",
            " ['thermostat' 'thermostat']\n",
            " ['motion_sensor' 'motion_sensor']\n",
            " ['socket' 'water_sensor']\n",
            " ['watch' 'watch']\n",
            " ['TV' 'TV']\n",
            " ['TV' 'watch']\n",
            " ['motion_sensor' 'motion_sensor']\n",
            " ['lights' 'lights']\n",
            " ['TV' 'TV']\n",
            " ['lights' 'socket']\n",
            " ['socket' 'socket']\n",
            " ['watch' 'watch']\n",
            " ['thermostat' 'thermostat']\n",
            " ['water_sensor' 'lights']\n",
            " ['smoke_detector' 'smoke_detector']\n",
            " ['motion_sensor' 'motion_sensor']\n",
            " ['watch' 'TV']\n",
            " ['water_sensor' 'socket']\n",
            " ['TV' 'TV']\n",
            " ['baby_monitor' 'watch']\n",
            " ['lights' 'lights']\n",
            " ['socket' 'lights']\n",
            " ['thermostat' 'thermostat']\n",
            " ['TV' 'TV']\n",
            " ['TV' 'TV']\n",
            " ['security_camera' 'security_camera']\n",
            " ['watch' 'watch']\n",
            " ['socket' 'lights']\n",
            " ['baby_monitor' 'TV']\n",
            " ['smoke_detector' 'smoke_detector']\n",
            " ['motion_sensor' 'TV']\n",
            " ['watch' 'watch']\n",
            " ['smoke_detector' 'smoke_detector']\n",
            " ['lights' 'socket']\n",
            " ['smoke_detector' 'smoke_detector']\n",
            " ['smoke_detector' 'smoke_detector']\n",
            " ['security_camera' 'security_camera']\n",
            " ['lights' 'lights']\n",
            " ['lights' 'socket']\n",
            " ['baby_monitor' 'baby_monitor']\n",
            " ['watch' 'baby_monitor']\n",
            " ['watch' 'watch']\n",
            " ['baby_monitor' 'baby_monitor']\n",
            " ['thermostat' 'thermostat']\n",
            " ['smoke_detector' 'smoke_detector']\n",
            " ['TV' 'thermostat']\n",
            " ['security_camera' 'security_camera']\n",
            " ['TV' 'TV']\n",
            " ['thermostat' 'thermostat']\n",
            " ['socket' 'socket']\n",
            " ['watch' 'watch']\n",
            " ['baby_monitor' 'baby_monitor']\n",
            " ['watch' 'watch']\n",
            " ['watch' 'watch']\n",
            " ['baby_monitor' 'baby_monitor']\n",
            " ['water_sensor' 'socket']\n",
            " ['thermostat' 'motion_sensor']\n",
            " ['security_camera' 'security_camera']\n",
            " ['security_camera' 'security_camera']\n",
            " ['watch' 'watch']\n",
            " ['lights' 'socket']\n",
            " ['lights' 'socket']\n",
            " ['security_camera' 'security_camera']\n",
            " ['baby_monitor' 'baby_monitor']\n",
            " ['motion_sensor' 'motion_sensor']\n",
            " ['TV' 'TV']\n",
            " ['security_camera' 'security_camera']\n",
            " ['motion_sensor' 'motion_sensor']\n",
            " ['smoke_detector' 'smoke_detector']\n",
            " ['lights' 'lights']\n",
            " ['motion_sensor' 'motion_sensor']\n",
            " ['socket' 'water_sensor']\n",
            " ['thermostat' 'thermostat']\n",
            " ['lights' 'socket']\n",
            " ['lights' 'socket']\n",
            " ['security_camera' 'baby_monitor']\n",
            " ['watch' 'watch']\n",
            " ['watch' 'watch']\n",
            " ['socket' 'lights']\n",
            " ['smoke_detector' 'smoke_detector']\n",
            " ['smoke_detector' 'smoke_detector']\n",
            " ['lights' 'lights']\n",
            " ['lights' 'lights']\n",
            " ['thermostat' 'thermostat']\n",
            " ['motion_sensor' 'motion_sensor']]\n"
          ]
        }
      ]
    },
    {
      "cell_type": "code",
      "metadata": {
        "id": "0DzOKFlITm9a",
        "colab": {
          "base_uri": "https://localhost:8080/"
        },
        "outputId": "02539702-ced7-463f-ccad-95c221d1224d"
      },
      "source": [
        "from sklearn.metrics import confusion_matrix, accuracy_score\n",
        "cm = confusion_matrix(y_test, y_pred)\n",
        "print(cm)\n",
        "accuracy_score(y_test, y_pred)"
      ],
      "execution_count": 117,
      "outputs": [
        {
          "output_type": "stream",
          "name": "stdout",
          "text": [
            "[[33  4  0  1  1  0  0  0  2  0]\n",
            " [ 0 33  0  1  1  0  0  1  2  0]\n",
            " [ 0  0 28  0  0  0 11  0  0  3]\n",
            " [ 0  0  1 35  0  1  0  1  0  0]\n",
            " [ 0  0  0  0 35  0  0  0  0  0]\n",
            " [ 0  0  0  0  0 46  0  0  0  0]\n",
            " [ 0  0 16  0  0  0 18  0  0  5]\n",
            " [ 1  1  0  1  0  0  0 39  0  0]\n",
            " [ 8  3  0  0  0  0  0  2 28  0]\n",
            " [ 0  0  3  0  0  0 11  0  0  4]]\n"
          ]
        },
        {
          "output_type": "execute_result",
          "data": {
            "text/plain": [
              "0.7868421052631579"
            ]
          },
          "metadata": {},
          "execution_count": 117
        }
      ]
    },
    {
      "cell_type": "code",
      "metadata": {
        "id": "beMgSFQKTuu9"
      },
      "source": [
        ""
      ],
      "execution_count": 117,
      "outputs": []
    },
    {
      "cell_type": "code",
      "metadata": {
        "id": "NZ71wROcT1Ed"
      },
      "source": [
        ""
      ],
      "execution_count": 117,
      "outputs": []
    }
  ]
}