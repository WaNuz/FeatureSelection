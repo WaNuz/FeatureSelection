{
  "nbformat": 4,
  "nbformat_minor": 0,
  "metadata": {
    "colab": {
      "name": "knearest-SelectKBest_.ipynb",
      "provenance": [],
      "collapsed_sections": []
    },
    "kernelspec": {
      "name": "python3",
      "display_name": "Python 3"
    },
    "language_info": {
      "name": "python"
    }
  },
  "cells": [
    {
      "cell_type": "code",
      "metadata": {
        "id": "61mRO61UCLXP"
      },
      "source": [
        "import numpy as np\n",
        "import matplotlib.pyplot as plt\n",
        "import pandas as pd"
      ],
      "execution_count": 108,
      "outputs": []
    },
    {
      "cell_type": "code",
      "metadata": {
        "id": "QKetEqD06HeI"
      },
      "source": [
        "dataset = pd.read_csv('Data.csv')"
      ],
      "execution_count": 109,
      "outputs": []
    },
    {
      "cell_type": "code",
      "metadata": {
        "colab": {
          "base_uri": "https://localhost:8080/",
          "height": 253
        },
        "id": "n_OT3w9xzQsl",
        "outputId": "e91acf6e-e294-4903-abd9-0cf826921ed5"
      },
      "source": [
        "dataset.head()"
      ],
      "execution_count": 130,
      "outputs": [
        {
          "output_type": "execute_result",
          "data": {
            "text/html": [
              "<div>\n",
              "<style scoped>\n",
              "    .dataframe tbody tr th:only-of-type {\n",
              "        vertical-align: middle;\n",
              "    }\n",
              "\n",
              "    .dataframe tbody tr th {\n",
              "        vertical-align: top;\n",
              "    }\n",
              "\n",
              "    .dataframe thead th {\n",
              "        text-align: right;\n",
              "    }\n",
              "</style>\n",
              "<table border=\"1\" class=\"dataframe\">\n",
              "  <thead>\n",
              "    <tr style=\"text-align: right;\">\n",
              "      <th></th>\n",
              "      <th>ack</th>\n",
              "      <th>ack_A</th>\n",
              "      <th>ack_B</th>\n",
              "      <th>bytes</th>\n",
              "      <th>bytes_A</th>\n",
              "      <th>bytes_A_B_ratio</th>\n",
              "      <th>bytes_B</th>\n",
              "      <th>ds_field_B</th>\n",
              "      <th>duration</th>\n",
              "      <th>http_dom_host_alexaRank</th>\n",
              "      <th>http_inter_arrivel_avg</th>\n",
              "      <th>http_inter_arrivel_entropy</th>\n",
              "      <th>http_inter_arrivel_firstQ</th>\n",
              "      <th>http_inter_arrivel_max</th>\n",
              "      <th>http_inter_arrivel_median</th>\n",
              "      <th>http_inter_arrivel_min</th>\n",
              "      <th>http_inter_arrivel_stdev</th>\n",
              "      <th>http_inter_arrivel_sum</th>\n",
              "      <th>http_inter_arrivel_thirdQ</th>\n",
              "      <th>packet_inter_arrivel_A_avg</th>\n",
              "      <th>packet_inter_arrivel_A_entropy</th>\n",
              "      <th>packet_inter_arrivel_A_firstQ</th>\n",
              "      <th>packet_inter_arrivel_A_max</th>\n",
              "      <th>packet_inter_arrivel_A_median</th>\n",
              "      <th>packet_inter_arrivel_A_min</th>\n",
              "      <th>packet_inter_arrivel_A_stdev</th>\n",
              "      <th>packet_inter_arrivel_A_sum</th>\n",
              "      <th>packet_inter_arrivel_A_thirdQ</th>\n",
              "      <th>packet_inter_arrivel_A_var</th>\n",
              "      <th>packet_inter_arrivel_B_avg</th>\n",
              "      <th>packet_inter_arrivel_B_entropy</th>\n",
              "      <th>packet_inter_arrivel_B_firstQ</th>\n",
              "      <th>packet_inter_arrivel_B_max</th>\n",
              "      <th>packet_inter_arrivel_B_median</th>\n",
              "      <th>packet_inter_arrivel_B_min</th>\n",
              "      <th>packet_inter_arrivel_B_stdev</th>\n",
              "      <th>packet_inter_arrivel_B_sum</th>\n",
              "      <th>packet_inter_arrivel_B_thirdQ</th>\n",
              "      <th>packet_inter_arrivel_B_var</th>\n",
              "      <th>packet_inter_arrivel_avg</th>\n",
              "      <th>...</th>\n",
              "      <th>packet_size_stdev</th>\n",
              "      <th>packet_size_sum</th>\n",
              "      <th>packet_size_thirdQ</th>\n",
              "      <th>packet_size_var</th>\n",
              "      <th>packets</th>\n",
              "      <th>packets_A</th>\n",
              "      <th>packets_A_B_ratio</th>\n",
              "      <th>packets_B</th>\n",
              "      <th>ssl_dom_server_name_alexaRank</th>\n",
              "      <th>ttl_A_avg</th>\n",
              "      <th>ttl_A_entropy</th>\n",
              "      <th>ttl_A_firstQ</th>\n",
              "      <th>ttl_A_max</th>\n",
              "      <th>ttl_A_median</th>\n",
              "      <th>ttl_A_min</th>\n",
              "      <th>ttl_A_stdev</th>\n",
              "      <th>ttl_A_sum</th>\n",
              "      <th>ttl_A_thirdQ</th>\n",
              "      <th>ttl_A_var</th>\n",
              "      <th>ttl_B_avg</th>\n",
              "      <th>ttl_B_entropy</th>\n",
              "      <th>ttl_B_firstQ</th>\n",
              "      <th>ttl_B_max</th>\n",
              "      <th>ttl_B_median</th>\n",
              "      <th>ttl_B_min</th>\n",
              "      <th>ttl_B_stdev</th>\n",
              "      <th>ttl_B_sum</th>\n",
              "      <th>ttl_B_thirdQ</th>\n",
              "      <th>ttl_B_var</th>\n",
              "      <th>ttl_avg</th>\n",
              "      <th>ttl_entropy</th>\n",
              "      <th>ttl_firstQ</th>\n",
              "      <th>ttl_max</th>\n",
              "      <th>ttl_median</th>\n",
              "      <th>ttl_min</th>\n",
              "      <th>ttl_stdev</th>\n",
              "      <th>ttl_sum</th>\n",
              "      <th>ttl_thirdQ</th>\n",
              "      <th>ttl_var</th>\n",
              "      <th>device_category</th>\n",
              "    </tr>\n",
              "  </thead>\n",
              "  <tbody>\n",
              "    <tr>\n",
              "      <th>0</th>\n",
              "      <td>9</td>\n",
              "      <td>5</td>\n",
              "      <td>5</td>\n",
              "      <td>1213</td>\n",
              "      <td>743</td>\n",
              "      <td>0.713924</td>\n",
              "      <td>668</td>\n",
              "      <td>0</td>\n",
              "      <td>1.5756</td>\n",
              "      <td>2147483647</td>\n",
              "      <td>648.797378</td>\n",
              "      <td>0.0</td>\n",
              "      <td>366.095591</td>\n",
              "      <td>1547.304718</td>\n",
              "      <td>490.697626</td>\n",
              "      <td>218.634327</td>\n",
              "      <td>0.0</td>\n",
              "      <td>2840.981562</td>\n",
              "      <td>694.86998</td>\n",
              "      <td>4.817936</td>\n",
              "      <td>4.754888</td>\n",
              "      <td>3.562982e-01</td>\n",
              "      <td>10.584173</td>\n",
              "      <td>0.501178</td>\n",
              "      <td>0.000000e+00</td>\n",
              "      <td>4.625940</td>\n",
              "      <td>7063.094895</td>\n",
              "      <td>0.538112</td>\n",
              "      <td>21.399323</td>\n",
              "      <td>0.223995</td>\n",
              "      <td>2.0</td>\n",
              "      <td>0.067095</td>\n",
              "      <td>0.342990</td>\n",
              "      <td>1.660266e-01</td>\n",
              "      <td>0.000000e+00</td>\n",
              "      <td>0.115842</td>\n",
              "      <td>0.551958</td>\n",
              "      <td>0.244938</td>\n",
              "      <td>0.013419</td>\n",
              "      <td>3.122500</td>\n",
              "      <td>...</td>\n",
              "      <td>103.577739</td>\n",
              "      <td>679</td>\n",
              "      <td>60.5</td>\n",
              "      <td>10728.348010</td>\n",
              "      <td>10</td>\n",
              "      <td>5</td>\n",
              "      <td>0.542604</td>\n",
              "      <td>5</td>\n",
              "      <td>2147483647</td>\n",
              "      <td>64</td>\n",
              "      <td>0</td>\n",
              "      <td>64</td>\n",
              "      <td>64</td>\n",
              "      <td>64</td>\n",
              "      <td>64</td>\n",
              "      <td>0</td>\n",
              "      <td>7140</td>\n",
              "      <td>64</td>\n",
              "      <td>0</td>\n",
              "      <td>44.0</td>\n",
              "      <td>0.000000</td>\n",
              "      <td>44.0</td>\n",
              "      <td>44</td>\n",
              "      <td>44.0</td>\n",
              "      <td>44</td>\n",
              "      <td>0.000000</td>\n",
              "      <td>512</td>\n",
              "      <td>44.0</td>\n",
              "      <td>0.000000</td>\n",
              "      <td>56.965091</td>\n",
              "      <td>0.935617</td>\n",
              "      <td>44.0</td>\n",
              "      <td>64</td>\n",
              "      <td>64.0</td>\n",
              "      <td>44</td>\n",
              "      <td>9.552411</td>\n",
              "      <td>7140</td>\n",
              "      <td>64.0</td>\n",
              "      <td>91.248560</td>\n",
              "      <td>security_camera</td>\n",
              "    </tr>\n",
              "    <tr>\n",
              "      <th>1</th>\n",
              "      <td>9</td>\n",
              "      <td>5</td>\n",
              "      <td>5</td>\n",
              "      <td>1213</td>\n",
              "      <td>743</td>\n",
              "      <td>1.806874</td>\n",
              "      <td>668</td>\n",
              "      <td>0</td>\n",
              "      <td>0.6890</td>\n",
              "      <td>2147483647</td>\n",
              "      <td>648.797378</td>\n",
              "      <td>0.0</td>\n",
              "      <td>366.095591</td>\n",
              "      <td>1547.304718</td>\n",
              "      <td>490.697626</td>\n",
              "      <td>218.634327</td>\n",
              "      <td>0.0</td>\n",
              "      <td>2840.981562</td>\n",
              "      <td>694.86998</td>\n",
              "      <td>0.043064</td>\n",
              "      <td>3.500000</td>\n",
              "      <td>9.536743e-07</td>\n",
              "      <td>0.195949</td>\n",
              "      <td>0.011466</td>\n",
              "      <td>0.000000e+00</td>\n",
              "      <td>0.057044</td>\n",
              "      <td>0.689025</td>\n",
              "      <td>0.085983</td>\n",
              "      <td>0.003254</td>\n",
              "      <td>0.046643</td>\n",
              "      <td>2.0</td>\n",
              "      <td>0.000000</td>\n",
              "      <td>0.286143</td>\n",
              "      <td>9.536743e-07</td>\n",
              "      <td>0.000000e+00</td>\n",
              "      <td>0.085642</td>\n",
              "      <td>0.551958</td>\n",
              "      <td>0.088185</td>\n",
              "      <td>0.007335</td>\n",
              "      <td>0.022967</td>\n",
              "      <td>...</td>\n",
              "      <td>167.211532</td>\n",
              "      <td>679</td>\n",
              "      <td>60.5</td>\n",
              "      <td>27959.696429</td>\n",
              "      <td>10</td>\n",
              "      <td>5</td>\n",
              "      <td>0.823481</td>\n",
              "      <td>5</td>\n",
              "      <td>139</td>\n",
              "      <td>64</td>\n",
              "      <td>0</td>\n",
              "      <td>64</td>\n",
              "      <td>64</td>\n",
              "      <td>64</td>\n",
              "      <td>64</td>\n",
              "      <td>0</td>\n",
              "      <td>1088</td>\n",
              "      <td>64</td>\n",
              "      <td>0</td>\n",
              "      <td>129.8</td>\n",
              "      <td>0.371232</td>\n",
              "      <td>107.0</td>\n",
              "      <td>235</td>\n",
              "      <td>108.0</td>\n",
              "      <td>42</td>\n",
              "      <td>51.581420</td>\n",
              "      <td>512</td>\n",
              "      <td>229.0</td>\n",
              "      <td>2660.642857</td>\n",
              "      <td>135.000000</td>\n",
              "      <td>1.160887</td>\n",
              "      <td>64.0</td>\n",
              "      <td>235</td>\n",
              "      <td>64.0</td>\n",
              "      <td>42</td>\n",
              "      <td>79.310151</td>\n",
              "      <td>4185</td>\n",
              "      <td>235.0</td>\n",
              "      <td>6290.100000</td>\n",
              "      <td>security_camera</td>\n",
              "    </tr>\n",
              "    <tr>\n",
              "      <th>2</th>\n",
              "      <td>9</td>\n",
              "      <td>5</td>\n",
              "      <td>5</td>\n",
              "      <td>1213</td>\n",
              "      <td>743</td>\n",
              "      <td>0.103124</td>\n",
              "      <td>668</td>\n",
              "      <td>0</td>\n",
              "      <td>0.9852</td>\n",
              "      <td>2147483647</td>\n",
              "      <td>648.797378</td>\n",
              "      <td>0.0</td>\n",
              "      <td>366.095591</td>\n",
              "      <td>1547.304718</td>\n",
              "      <td>490.697626</td>\n",
              "      <td>218.634327</td>\n",
              "      <td>0.0</td>\n",
              "      <td>2840.981562</td>\n",
              "      <td>694.86998</td>\n",
              "      <td>0.020524</td>\n",
              "      <td>4.754888</td>\n",
              "      <td>1.579523e-03</td>\n",
              "      <td>0.121923</td>\n",
              "      <td>0.001921</td>\n",
              "      <td>9.536743e-07</td>\n",
              "      <td>0.036243</td>\n",
              "      <td>0.985172</td>\n",
              "      <td>0.013639</td>\n",
              "      <td>0.001314</td>\n",
              "      <td>0.032042</td>\n",
              "      <td>2.0</td>\n",
              "      <td>0.002094</td>\n",
              "      <td>0.196619</td>\n",
              "      <td>3.602386e-03</td>\n",
              "      <td>9.536743e-07</td>\n",
              "      <td>0.052939</td>\n",
              "      <td>0.551958</td>\n",
              "      <td>0.041513</td>\n",
              "      <td>0.002802</td>\n",
              "      <td>0.012794</td>\n",
              "      <td>...</td>\n",
              "      <td>167.211532</td>\n",
              "      <td>679</td>\n",
              "      <td>60.5</td>\n",
              "      <td>27959.696429</td>\n",
              "      <td>10</td>\n",
              "      <td>5</td>\n",
              "      <td>0.591825</td>\n",
              "      <td>5</td>\n",
              "      <td>139</td>\n",
              "      <td>64</td>\n",
              "      <td>0</td>\n",
              "      <td>64</td>\n",
              "      <td>64</td>\n",
              "      <td>64</td>\n",
              "      <td>64</td>\n",
              "      <td>0</td>\n",
              "      <td>3136</td>\n",
              "      <td>64</td>\n",
              "      <td>0</td>\n",
              "      <td>129.8</td>\n",
              "      <td>0.216397</td>\n",
              "      <td>107.0</td>\n",
              "      <td>235</td>\n",
              "      <td>108.0</td>\n",
              "      <td>43</td>\n",
              "      <td>35.653505</td>\n",
              "      <td>512</td>\n",
              "      <td>229.0</td>\n",
              "      <td>1271.172414</td>\n",
              "      <td>125.115385</td>\n",
              "      <td>1.032496</td>\n",
              "      <td>64.0</td>\n",
              "      <td>235</td>\n",
              "      <td>64.0</td>\n",
              "      <td>43</td>\n",
              "      <td>79.310151</td>\n",
              "      <td>7140</td>\n",
              "      <td>235.0</td>\n",
              "      <td>6290.100000</td>\n",
              "      <td>security_camera</td>\n",
              "    </tr>\n",
              "    <tr>\n",
              "      <th>3</th>\n",
              "      <td>9</td>\n",
              "      <td>5</td>\n",
              "      <td>5</td>\n",
              "      <td>1213</td>\n",
              "      <td>743</td>\n",
              "      <td>1.806874</td>\n",
              "      <td>668</td>\n",
              "      <td>0</td>\n",
              "      <td>1.5756</td>\n",
              "      <td>2147483647</td>\n",
              "      <td>648.797378</td>\n",
              "      <td>0.0</td>\n",
              "      <td>366.095591</td>\n",
              "      <td>1547.304718</td>\n",
              "      <td>490.697626</td>\n",
              "      <td>218.634327</td>\n",
              "      <td>0.0</td>\n",
              "      <td>2840.981562</td>\n",
              "      <td>694.86998</td>\n",
              "      <td>0.178558</td>\n",
              "      <td>3.418296</td>\n",
              "      <td>2.477586e-03</td>\n",
              "      <td>0.425632</td>\n",
              "      <td>0.117489</td>\n",
              "      <td>0.000000e+00</td>\n",
              "      <td>0.183261</td>\n",
              "      <td>2.142692</td>\n",
              "      <td>0.361198</td>\n",
              "      <td>0.033585</td>\n",
              "      <td>0.161996</td>\n",
              "      <td>2.0</td>\n",
              "      <td>0.000002</td>\n",
              "      <td>0.342990</td>\n",
              "      <td>3.484964e-03</td>\n",
              "      <td>0.000000e+00</td>\n",
              "      <td>0.115842</td>\n",
              "      <td>0.551958</td>\n",
              "      <td>0.244938</td>\n",
              "      <td>0.013419</td>\n",
              "      <td>0.089279</td>\n",
              "      <td>...</td>\n",
              "      <td>167.211532</td>\n",
              "      <td>679</td>\n",
              "      <td>60.5</td>\n",
              "      <td>27959.696429</td>\n",
              "      <td>10</td>\n",
              "      <td>5</td>\n",
              "      <td>0.833287</td>\n",
              "      <td>5</td>\n",
              "      <td>2147483647</td>\n",
              "      <td>64</td>\n",
              "      <td>0</td>\n",
              "      <td>64</td>\n",
              "      <td>64</td>\n",
              "      <td>64</td>\n",
              "      <td>64</td>\n",
              "      <td>0</td>\n",
              "      <td>832</td>\n",
              "      <td>64</td>\n",
              "      <td>0</td>\n",
              "      <td>42.0</td>\n",
              "      <td>0.000000</td>\n",
              "      <td>42.0</td>\n",
              "      <td>42</td>\n",
              "      <td>42.0</td>\n",
              "      <td>42</td>\n",
              "      <td>0.000000</td>\n",
              "      <td>504</td>\n",
              "      <td>42.0</td>\n",
              "      <td>0.000000</td>\n",
              "      <td>53.440000</td>\n",
              "      <td>0.998846</td>\n",
              "      <td>42.0</td>\n",
              "      <td>64</td>\n",
              "      <td>64.0</td>\n",
              "      <td>42</td>\n",
              "      <td>11.217843</td>\n",
              "      <td>1336</td>\n",
              "      <td>64.0</td>\n",
              "      <td>125.840000</td>\n",
              "      <td>security_camera</td>\n",
              "    </tr>\n",
              "    <tr>\n",
              "      <th>4</th>\n",
              "      <td>9</td>\n",
              "      <td>5</td>\n",
              "      <td>5</td>\n",
              "      <td>1213</td>\n",
              "      <td>743</td>\n",
              "      <td>1.806874</td>\n",
              "      <td>668</td>\n",
              "      <td>0</td>\n",
              "      <td>1.5756</td>\n",
              "      <td>2147483647</td>\n",
              "      <td>648.797378</td>\n",
              "      <td>0.0</td>\n",
              "      <td>366.095591</td>\n",
              "      <td>1547.304718</td>\n",
              "      <td>490.697626</td>\n",
              "      <td>218.634327</td>\n",
              "      <td>0.0</td>\n",
              "      <td>2840.981562</td>\n",
              "      <td>694.86998</td>\n",
              "      <td>0.170562</td>\n",
              "      <td>3.584963</td>\n",
              "      <td>3.391683e-03</td>\n",
              "      <td>0.406019</td>\n",
              "      <td>0.061885</td>\n",
              "      <td>0.000000e+00</td>\n",
              "      <td>0.188883</td>\n",
              "      <td>2.046741</td>\n",
              "      <td>0.373967</td>\n",
              "      <td>0.035677</td>\n",
              "      <td>0.208749</td>\n",
              "      <td>2.0</td>\n",
              "      <td>0.000001</td>\n",
              "      <td>0.342990</td>\n",
              "      <td>1.660266e-01</td>\n",
              "      <td>0.000000e+00</td>\n",
              "      <td>0.115842</td>\n",
              "      <td>0.551958</td>\n",
              "      <td>0.244938</td>\n",
              "      <td>0.013419</td>\n",
              "      <td>0.097464</td>\n",
              "      <td>...</td>\n",
              "      <td>167.211532</td>\n",
              "      <td>679</td>\n",
              "      <td>60.5</td>\n",
              "      <td>27959.696429</td>\n",
              "      <td>10</td>\n",
              "      <td>5</td>\n",
              "      <td>0.692254</td>\n",
              "      <td>5</td>\n",
              "      <td>2147483647</td>\n",
              "      <td>64</td>\n",
              "      <td>0</td>\n",
              "      <td>64</td>\n",
              "      <td>64</td>\n",
              "      <td>64</td>\n",
              "      <td>64</td>\n",
              "      <td>0</td>\n",
              "      <td>832</td>\n",
              "      <td>64</td>\n",
              "      <td>0</td>\n",
              "      <td>42.0</td>\n",
              "      <td>0.000000</td>\n",
              "      <td>42.0</td>\n",
              "      <td>42</td>\n",
              "      <td>42.0</td>\n",
              "      <td>42</td>\n",
              "      <td>0.000000</td>\n",
              "      <td>378</td>\n",
              "      <td>42.0</td>\n",
              "      <td>0.000000</td>\n",
              "      <td>55.000000</td>\n",
              "      <td>0.976021</td>\n",
              "      <td>42.0</td>\n",
              "      <td>64</td>\n",
              "      <td>64.0</td>\n",
              "      <td>42</td>\n",
              "      <td>11.071198</td>\n",
              "      <td>1210</td>\n",
              "      <td>64.0</td>\n",
              "      <td>122.571429</td>\n",
              "      <td>security_camera</td>\n",
              "    </tr>\n",
              "  </tbody>\n",
              "</table>\n",
              "<p>5 rows × 114 columns</p>\n",
              "</div>"
            ],
            "text/plain": [
              "   ack  ack_A  ack_B  bytes  ...  ttl_sum  ttl_thirdQ      ttl_var  device_category\n",
              "0    9      5      5   1213  ...     7140        64.0    91.248560  security_camera\n",
              "1    9      5      5   1213  ...     4185       235.0  6290.100000  security_camera\n",
              "2    9      5      5   1213  ...     7140       235.0  6290.100000  security_camera\n",
              "3    9      5      5   1213  ...     1336        64.0   125.840000  security_camera\n",
              "4    9      5      5   1213  ...     1210        64.0   122.571429  security_camera\n",
              "\n",
              "[5 rows x 114 columns]"
            ]
          },
          "metadata": {},
          "execution_count": 130
        }
      ]
    },
    {
      "cell_type": "code",
      "metadata": {
        "id": "2cL0aQt46YGe"
      },
      "source": [
        "X =  dataset.iloc[:, :-1]\n",
        "y = dataset.iloc[:, -1] # the first : is for the rows"
      ],
      "execution_count": 110,
      "outputs": []
    },
    {
      "cell_type": "markdown",
      "metadata": {
        "id": "tMXLfOB_zWKZ"
      },
      "source": [
        "**Anlysing the data**"
      ]
    },
    {
      "cell_type": "code",
      "metadata": {
        "id": "zbYFPio26igV"
      },
      "source": [
        "import seaborn as sns\n",
        "import warnings\n",
        "warnings.filterwarnings(\"ignore\")"
      ],
      "execution_count": 111,
      "outputs": []
    },
    {
      "cell_type": "code",
      "metadata": {
        "colab": {
          "base_uri": "https://localhost:8080/"
        },
        "id": "aqD2kWKWzZp5",
        "outputId": "eb8029dd-6430-4ad0-8b7f-3d8685819921"
      },
      "source": [
        "dataset.info()"
      ],
      "execution_count": 131,
      "outputs": [
        {
          "output_type": "stream",
          "name": "stdout",
          "text": [
            "<class 'pandas.core.frame.DataFrame'>\n",
            "RangeIndex: 1900 entries, 0 to 1899\n",
            "Columns: 114 entries, ack to device_category\n",
            "dtypes: float64(77), int64(36), object(1)\n",
            "memory usage: 1.7+ MB\n"
          ]
        }
      ]
    },
    {
      "cell_type": "code",
      "metadata": {
        "id": "m4nb9zMEzdM5"
      },
      "source": [
        "# checking for missing data\n",
        "print(\"Are there missing data? :\", dataset.isnull().any().any())\n",
        "print(\"Sum of missing values:\\n\", dataset.isnull().sum())"
      ],
      "execution_count": null,
      "outputs": []
    },
    {
      "cell_type": "code",
      "metadata": {
        "id": "OH2N3nJozjG2"
      },
      "source": [
        "# running describe()\n",
        "\n",
        "dataset.describe().T.style.bar(subset=['mean'], color='#205ff2').background_gradient(subset=['std'], cmap='Reds').background_gradient(subset=['50%'], cmap='coolwarm')\n",
        "\n",
        "# the range of data is pretty diverse"
      ],
      "execution_count": null,
      "outputs": []
    },
    {
      "cell_type": "code",
      "metadata": {
        "colab": {
          "base_uri": "https://localhost:8080/"
        },
        "id": "dWEXruk8ztIv",
        "outputId": "9178475b-89cc-4103-8a88-cd40db70b49b"
      },
      "source": [
        "# total discrete features\n",
        "\n",
        "discrete_features=[]\n",
        "for col in dataset.columns[:-1]: # excluding the last columns\n",
        "  if np.array_equal(dataset[col].values, dataset[col].values.astype(int)):\n",
        "    discrete_features.append(col)\n",
        "\n",
        "print(f'Total discrete features {len(discrete_features)} : ')\n",
        "print(discrete_features)"
      ],
      "execution_count": 134,
      "outputs": [
        {
          "output_type": "stream",
          "name": "stdout",
          "text": [
            "Total discrete features 36 : \n",
            "['ack', 'ack_A', 'ack_B', 'bytes', 'bytes_A', 'bytes_B', 'ds_field_B', 'http_dom_host_alexaRank', 'packet_size_A_max', 'packet_size_A_sum', 'packet_size_B_max', 'packet_size_B_min', 'packet_size_B_sum', 'packet_size_max', 'packet_size_min', 'packet_size_sum', 'packets', 'packets_A', 'packets_B', 'ssl_dom_server_name_alexaRank', 'ttl_A_avg', 'ttl_A_entropy', 'ttl_A_firstQ', 'ttl_A_max', 'ttl_A_median', 'ttl_A_min', 'ttl_A_stdev', 'ttl_A_sum', 'ttl_A_thirdQ', 'ttl_A_var', 'ttl_B_max', 'ttl_B_min', 'ttl_B_sum', 'ttl_max', 'ttl_min', 'ttl_sum']\n"
          ]
        }
      ]
    },
    {
      "cell_type": "code",
      "metadata": {
        "id": "46HKZBRndTy5"
      },
      "source": [
        "X = X.values\n",
        "y = y.values"
      ],
      "execution_count": 112,
      "outputs": []
    },
    {
      "cell_type": "code",
      "metadata": {
        "colab": {
          "base_uri": "https://localhost:8080/"
        },
        "id": "zBdWW6BDqf8i",
        "outputId": "6c2c36c0-0413-46ec-adf6-51d82dee991e"
      },
      "source": [
        "X.shape"
      ],
      "execution_count": 113,
      "outputs": [
        {
          "output_type": "execute_result",
          "data": {
            "text/plain": [
              "(1900, 113)"
            ]
          },
          "metadata": {},
          "execution_count": 113
        }
      ]
    },
    {
      "cell_type": "code",
      "metadata": {
        "colab": {
          "base_uri": "https://localhost:8080/"
        },
        "id": "S_nUr_dMqj6_",
        "outputId": "d59aeff5-9644-4d13-b1d1-3879d234f7fc"
      },
      "source": [
        "y.shape"
      ],
      "execution_count": 114,
      "outputs": [
        {
          "output_type": "execute_result",
          "data": {
            "text/plain": [
              "(1900,)"
            ]
          },
          "metadata": {},
          "execution_count": 114
        }
      ]
    },
    {
      "cell_type": "markdown",
      "metadata": {
        "id": "wiEJHbCd0AZA"
      },
      "source": [
        "**Scale y label**\n"
      ]
    },
    {
      "cell_type": "code",
      "metadata": {
        "id": "0MdhEC-YjOfW"
      },
      "source": [
        "y = pd.get_dummies(y[::-1]).values"
      ],
      "execution_count": 115,
      "outputs": []
    },
    {
      "cell_type": "markdown",
      "metadata": {
        "id": "qyvT6vsC0DeA"
      },
      "source": [
        "**Feature Selection**"
      ]
    },
    {
      "cell_type": "code",
      "metadata": {
        "id": "oefE73sFdKn8"
      },
      "source": [
        "#feature selection\n",
        "from sklearn.feature_selection import SelectKBest\n",
        "from sklearn.feature_selection import mutual_info_classif\n",
        "from matplotlib import pyplot\n",
        "\n",
        "def select_features(X_train, y_train, X_test):\n",
        "  selector = SelectKBest(score_func=mutual_info_classif, k= 'all')\n",
        "  selector.fit(X_train, y_train)\n",
        "  X_train_selector = selector.transform(X_train)\n",
        "  X_test_selector = selector.transform(X_test)\n",
        "  return X_train_selector, X_test_selector, selector\n"
      ],
      "execution_count": 116,
      "outputs": []
    },
    {
      "cell_type": "code",
      "metadata": {
        "colab": {
          "base_uri": "https://localhost:8080/",
          "height": 324
        },
        "id": "lAtvskJsoh7-",
        "outputId": "7d53e3a7-a313-4275-da03-7b8d33bb2301"
      },
      "source": [
        "#This code gives me error \n",
        "X_train_selector, X_test_selector, selector = select_features(X_train, y_train, X_test)"
      ],
      "execution_count": 129,
      "outputs": [
        {
          "output_type": "error",
          "ename": "ValueError",
          "evalue": "ignored",
          "traceback": [
            "\u001b[0;31m---------------------------------------------------------------------------\u001b[0m",
            "\u001b[0;31mValueError\u001b[0m                                Traceback (most recent call last)",
            "\u001b[0;32m<ipython-input-129-af62b266bbf1>\u001b[0m in \u001b[0;36m<module>\u001b[0;34m()\u001b[0m\n\u001b[1;32m      1\u001b[0m \u001b[0;31m#This code gives me error\u001b[0m\u001b[0;34m\u001b[0m\u001b[0;34m\u001b[0m\u001b[0;34m\u001b[0m\u001b[0m\n\u001b[0;32m----> 2\u001b[0;31m \u001b[0mX_train_selector\u001b[0m\u001b[0;34m,\u001b[0m \u001b[0mX_test_selector\u001b[0m\u001b[0;34m,\u001b[0m \u001b[0mselector\u001b[0m \u001b[0;34m=\u001b[0m \u001b[0mselect_features\u001b[0m\u001b[0;34m(\u001b[0m\u001b[0mX_train\u001b[0m\u001b[0;34m,\u001b[0m \u001b[0my_train\u001b[0m\u001b[0;34m,\u001b[0m \u001b[0mX_test\u001b[0m\u001b[0;34m)\u001b[0m\u001b[0;34m\u001b[0m\u001b[0;34m\u001b[0m\u001b[0m\n\u001b[0m",
            "\u001b[0;32m<ipython-input-116-cfc7d83885c7>\u001b[0m in \u001b[0;36mselect_features\u001b[0;34m(X_train, y_train, X_test)\u001b[0m\n\u001b[1;32m      6\u001b[0m \u001b[0;32mdef\u001b[0m \u001b[0mselect_features\u001b[0m\u001b[0;34m(\u001b[0m\u001b[0mX_train\u001b[0m\u001b[0;34m,\u001b[0m \u001b[0my_train\u001b[0m\u001b[0;34m,\u001b[0m \u001b[0mX_test\u001b[0m\u001b[0;34m)\u001b[0m\u001b[0;34m:\u001b[0m\u001b[0;34m\u001b[0m\u001b[0;34m\u001b[0m\u001b[0m\n\u001b[1;32m      7\u001b[0m   \u001b[0mselector\u001b[0m \u001b[0;34m=\u001b[0m \u001b[0mSelectKBest\u001b[0m\u001b[0;34m(\u001b[0m\u001b[0mscore_func\u001b[0m\u001b[0;34m=\u001b[0m\u001b[0mmutual_info_classif\u001b[0m\u001b[0;34m,\u001b[0m \u001b[0mk\u001b[0m\u001b[0;34m=\u001b[0m \u001b[0;34m'all'\u001b[0m\u001b[0;34m)\u001b[0m\u001b[0;34m\u001b[0m\u001b[0;34m\u001b[0m\u001b[0m\n\u001b[0;32m----> 8\u001b[0;31m   \u001b[0mselector\u001b[0m\u001b[0;34m.\u001b[0m\u001b[0mfit\u001b[0m\u001b[0;34m(\u001b[0m\u001b[0mX_train\u001b[0m\u001b[0;34m,\u001b[0m \u001b[0my_train\u001b[0m\u001b[0;34m)\u001b[0m\u001b[0;34m\u001b[0m\u001b[0;34m\u001b[0m\u001b[0m\n\u001b[0m\u001b[1;32m      9\u001b[0m   \u001b[0mX_train_selector\u001b[0m \u001b[0;34m=\u001b[0m \u001b[0mselector\u001b[0m\u001b[0;34m.\u001b[0m\u001b[0mtransform\u001b[0m\u001b[0;34m(\u001b[0m\u001b[0mX_train\u001b[0m\u001b[0;34m)\u001b[0m\u001b[0;34m\u001b[0m\u001b[0;34m\u001b[0m\u001b[0m\n\u001b[1;32m     10\u001b[0m   \u001b[0mX_test_selector\u001b[0m \u001b[0;34m=\u001b[0m \u001b[0mselector\u001b[0m\u001b[0;34m.\u001b[0m\u001b[0mtransform\u001b[0m\u001b[0;34m(\u001b[0m\u001b[0mX_test\u001b[0m\u001b[0;34m)\u001b[0m\u001b[0;34m\u001b[0m\u001b[0;34m\u001b[0m\u001b[0m\n",
            "\u001b[0;32m/usr/local/lib/python3.7/dist-packages/sklearn/feature_selection/_univariate_selection.py\u001b[0m in \u001b[0;36mfit\u001b[0;34m(self, X, y)\u001b[0m\n\u001b[1;32m    347\u001b[0m \u001b[0;34m\u001b[0m\u001b[0m\n\u001b[1;32m    348\u001b[0m         \u001b[0mself\u001b[0m\u001b[0;34m.\u001b[0m\u001b[0m_check_params\u001b[0m\u001b[0;34m(\u001b[0m\u001b[0mX\u001b[0m\u001b[0;34m,\u001b[0m \u001b[0my\u001b[0m\u001b[0;34m)\u001b[0m\u001b[0;34m\u001b[0m\u001b[0;34m\u001b[0m\u001b[0m\n\u001b[0;32m--> 349\u001b[0;31m         \u001b[0mscore_func_ret\u001b[0m \u001b[0;34m=\u001b[0m \u001b[0mself\u001b[0m\u001b[0;34m.\u001b[0m\u001b[0mscore_func\u001b[0m\u001b[0;34m(\u001b[0m\u001b[0mX\u001b[0m\u001b[0;34m,\u001b[0m \u001b[0my\u001b[0m\u001b[0;34m)\u001b[0m\u001b[0;34m\u001b[0m\u001b[0;34m\u001b[0m\u001b[0m\n\u001b[0m\u001b[1;32m    350\u001b[0m         \u001b[0;32mif\u001b[0m \u001b[0misinstance\u001b[0m\u001b[0;34m(\u001b[0m\u001b[0mscore_func_ret\u001b[0m\u001b[0;34m,\u001b[0m \u001b[0;34m(\u001b[0m\u001b[0mlist\u001b[0m\u001b[0;34m,\u001b[0m \u001b[0mtuple\u001b[0m\u001b[0;34m)\u001b[0m\u001b[0;34m)\u001b[0m\u001b[0;34m:\u001b[0m\u001b[0;34m\u001b[0m\u001b[0;34m\u001b[0m\u001b[0m\n\u001b[1;32m    351\u001b[0m             \u001b[0mself\u001b[0m\u001b[0;34m.\u001b[0m\u001b[0mscores_\u001b[0m\u001b[0;34m,\u001b[0m \u001b[0mself\u001b[0m\u001b[0;34m.\u001b[0m\u001b[0mpvalues_\u001b[0m \u001b[0;34m=\u001b[0m \u001b[0mscore_func_ret\u001b[0m\u001b[0;34m\u001b[0m\u001b[0;34m\u001b[0m\u001b[0m\n",
            "\u001b[0;32m/usr/local/lib/python3.7/dist-packages/sklearn/feature_selection/_mutual_info.py\u001b[0m in \u001b[0;36mmutual_info_classif\u001b[0;34m(X, y, discrete_features, n_neighbors, copy, random_state)\u001b[0m\n\u001b[1;32m    449\u001b[0m     \u001b[0mcheck_classification_targets\u001b[0m\u001b[0;34m(\u001b[0m\u001b[0my\u001b[0m\u001b[0;34m)\u001b[0m\u001b[0;34m\u001b[0m\u001b[0;34m\u001b[0m\u001b[0m\n\u001b[1;32m    450\u001b[0m     return _estimate_mi(X, y, discrete_features, True, n_neighbors,\n\u001b[0;32m--> 451\u001b[0;31m                         copy, random_state)\n\u001b[0m",
            "\u001b[0;32m/usr/local/lib/python3.7/dist-packages/sklearn/feature_selection/_mutual_info.py\u001b[0m in \u001b[0;36m_estimate_mi\u001b[0;34m(X, y, discrete_features, discrete_target, n_neighbors, copy, random_state)\u001b[0m\n\u001b[1;32m    245\u001b[0m            \u001b[0mData\u001b[0m \u001b[0mSets\u001b[0m\u001b[0;31m\"\u001b[0m\u001b[0;34m.\u001b[0m \u001b[0mPLoS\u001b[0m \u001b[0mONE\u001b[0m \u001b[0;36m9\u001b[0m\u001b[0;34m(\u001b[0m\u001b[0;36m2\u001b[0m\u001b[0;34m)\u001b[0m\u001b[0;34m,\u001b[0m \u001b[0;36m2014.\u001b[0m\u001b[0;34m\u001b[0m\u001b[0;34m\u001b[0m\u001b[0m\n\u001b[1;32m    246\u001b[0m     \"\"\"\n\u001b[0;32m--> 247\u001b[0;31m     \u001b[0mX\u001b[0m\u001b[0;34m,\u001b[0m \u001b[0my\u001b[0m \u001b[0;34m=\u001b[0m \u001b[0mcheck_X_y\u001b[0m\u001b[0;34m(\u001b[0m\u001b[0mX\u001b[0m\u001b[0;34m,\u001b[0m \u001b[0my\u001b[0m\u001b[0;34m,\u001b[0m \u001b[0maccept_sparse\u001b[0m\u001b[0;34m=\u001b[0m\u001b[0;34m'csc'\u001b[0m\u001b[0;34m,\u001b[0m \u001b[0my_numeric\u001b[0m\u001b[0;34m=\u001b[0m\u001b[0;32mnot\u001b[0m \u001b[0mdiscrete_target\u001b[0m\u001b[0;34m)\u001b[0m\u001b[0;34m\u001b[0m\u001b[0;34m\u001b[0m\u001b[0m\n\u001b[0m\u001b[1;32m    248\u001b[0m     \u001b[0mn_samples\u001b[0m\u001b[0;34m,\u001b[0m \u001b[0mn_features\u001b[0m \u001b[0;34m=\u001b[0m \u001b[0mX\u001b[0m\u001b[0;34m.\u001b[0m\u001b[0mshape\u001b[0m\u001b[0;34m\u001b[0m\u001b[0;34m\u001b[0m\u001b[0m\n\u001b[1;32m    249\u001b[0m \u001b[0;34m\u001b[0m\u001b[0m\n",
            "\u001b[0;32m/usr/local/lib/python3.7/dist-packages/sklearn/utils/validation.py\u001b[0m in \u001b[0;36mcheck_X_y\u001b[0;34m(X, y, accept_sparse, accept_large_sparse, dtype, order, copy, force_all_finite, ensure_2d, allow_nd, multi_output, ensure_min_samples, ensure_min_features, y_numeric, warn_on_dtype, estimator)\u001b[0m\n\u001b[1;32m    758\u001b[0m                         dtype=None)\n\u001b[1;32m    759\u001b[0m     \u001b[0;32melse\u001b[0m\u001b[0;34m:\u001b[0m\u001b[0;34m\u001b[0m\u001b[0;34m\u001b[0m\u001b[0m\n\u001b[0;32m--> 760\u001b[0;31m         \u001b[0my\u001b[0m \u001b[0;34m=\u001b[0m \u001b[0mcolumn_or_1d\u001b[0m\u001b[0;34m(\u001b[0m\u001b[0my\u001b[0m\u001b[0;34m,\u001b[0m \u001b[0mwarn\u001b[0m\u001b[0;34m=\u001b[0m\u001b[0;32mTrue\u001b[0m\u001b[0;34m)\u001b[0m\u001b[0;34m\u001b[0m\u001b[0;34m\u001b[0m\u001b[0m\n\u001b[0m\u001b[1;32m    761\u001b[0m         \u001b[0m_assert_all_finite\u001b[0m\u001b[0;34m(\u001b[0m\u001b[0my\u001b[0m\u001b[0;34m)\u001b[0m\u001b[0;34m\u001b[0m\u001b[0;34m\u001b[0m\u001b[0m\n\u001b[1;32m    762\u001b[0m     \u001b[0;32mif\u001b[0m \u001b[0my_numeric\u001b[0m \u001b[0;32mand\u001b[0m \u001b[0my\u001b[0m\u001b[0;34m.\u001b[0m\u001b[0mdtype\u001b[0m\u001b[0;34m.\u001b[0m\u001b[0mkind\u001b[0m \u001b[0;34m==\u001b[0m \u001b[0;34m'O'\u001b[0m\u001b[0;34m:\u001b[0m\u001b[0;34m\u001b[0m\u001b[0;34m\u001b[0m\u001b[0m\n",
            "\u001b[0;32m/usr/local/lib/python3.7/dist-packages/sklearn/utils/validation.py\u001b[0m in \u001b[0;36mcolumn_or_1d\u001b[0;34m(y, warn)\u001b[0m\n\u001b[1;32m    795\u001b[0m         \u001b[0;32mreturn\u001b[0m \u001b[0mnp\u001b[0m\u001b[0;34m.\u001b[0m\u001b[0mravel\u001b[0m\u001b[0;34m(\u001b[0m\u001b[0my\u001b[0m\u001b[0;34m)\u001b[0m\u001b[0;34m\u001b[0m\u001b[0;34m\u001b[0m\u001b[0m\n\u001b[1;32m    796\u001b[0m \u001b[0;34m\u001b[0m\u001b[0m\n\u001b[0;32m--> 797\u001b[0;31m     \u001b[0;32mraise\u001b[0m \u001b[0mValueError\u001b[0m\u001b[0;34m(\u001b[0m\u001b[0;34m\"bad input shape {0}\"\u001b[0m\u001b[0;34m.\u001b[0m\u001b[0mformat\u001b[0m\u001b[0;34m(\u001b[0m\u001b[0mshape\u001b[0m\u001b[0;34m)\u001b[0m\u001b[0;34m)\u001b[0m\u001b[0;34m\u001b[0m\u001b[0;34m\u001b[0m\u001b[0m\n\u001b[0m\u001b[1;32m    798\u001b[0m \u001b[0;34m\u001b[0m\u001b[0m\n\u001b[1;32m    799\u001b[0m \u001b[0;34m\u001b[0m\u001b[0m\n",
            "\u001b[0;31mValueError\u001b[0m: bad input shape (1520, 10)"
          ]
        }
      ]
    },
    {
      "cell_type": "markdown",
      "metadata": {
        "id": "VetHOSuc0HPt"
      },
      "source": [
        "**Split data**"
      ]
    },
    {
      "cell_type": "code",
      "metadata": {
        "id": "8j-OO_CKiO8l"
      },
      "source": [
        "X_train, X_test, y_train, y_test = train_test_split(X, y, test_size=0.2, random_state=1)"
      ],
      "execution_count": 118,
      "outputs": []
    },
    {
      "cell_type": "markdown",
      "metadata": {
        "id": "YTuyIYTOcBFB"
      },
      "source": [
        "**Scale all columns**"
      ]
    },
    {
      "cell_type": "code",
      "metadata": {
        "id": "BfC2msX27JyZ"
      },
      "source": [
        "from sklearn.preprocessing import StandardScaler\n",
        "sc = StandardScaler()\n",
        "X_train = sc.fit_transform(X_train)\n",
        "X_test = sc.transform(X_test)"
      ],
      "execution_count": 121,
      "outputs": []
    },
    {
      "cell_type": "markdown",
      "metadata": {
        "id": "D3kynl9F0alr"
      },
      "source": [
        "**Classification**"
      ]
    },
    {
      "cell_type": "code",
      "metadata": {
        "id": "HnOJEJK47QFy"
      },
      "source": [
        "from sklearn.neighbors import KNeighborsClassifier\n",
        "knn = KNeighborsClassifier(n_neighbors=5)"
      ],
      "execution_count": 125,
      "outputs": []
    },
    {
      "cell_type": "code",
      "metadata": {
        "colab": {
          "base_uri": "https://localhost:8080/"
        },
        "id": "uwZ3f1HwHFH6",
        "outputId": "a3af328b-34e1-44a9-8f64-4ecb43c62f48"
      },
      "source": [
        "knn.fit(X_train, y_train)"
      ],
      "execution_count": 126,
      "outputs": [
        {
          "output_type": "execute_result",
          "data": {
            "text/plain": [
              "KNeighborsClassifier(algorithm='auto', leaf_size=30, metric='minkowski',\n",
              "                     metric_params=None, n_jobs=None, n_neighbors=5, p=2,\n",
              "                     weights='uniform')"
            ]
          },
          "metadata": {},
          "execution_count": 126
        }
      ]
    },
    {
      "cell_type": "code",
      "metadata": {
        "id": "0rFj-JYw7S1Q"
      },
      "source": [
        "y_pred = knn.predict(X_test)"
      ],
      "execution_count": 127,
      "outputs": []
    },
    {
      "cell_type": "code",
      "metadata": {
        "colab": {
          "base_uri": "https://localhost:8080/"
        },
        "id": "a7vF2Rcw7chq",
        "outputId": "b96b8f82-2a29-41a3-bf7c-56a6aaff0700"
      },
      "source": [
        "#Import scikit-learn metrics module for accuracy calculation\n",
        "from sklearn import metrics\n",
        "# Model Accuracy, how often is the classifier correct?\n",
        "print(\"Accuracy:\",metrics.accuracy_score(y_test, y_pred))"
      ],
      "execution_count": 128,
      "outputs": [
        {
          "output_type": "stream",
          "name": "stdout",
          "text": [
            "Accuracy: 0.7026315789473684\n"
          ]
        }
      ]
    }
  ]
}